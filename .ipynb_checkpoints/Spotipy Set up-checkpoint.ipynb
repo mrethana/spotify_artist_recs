{
 "cells": [
  {
   "cell_type": "code",
   "execution_count": 75,
   "metadata": {},
   "outputs": [],
   "source": [
    "import sys\n",
    "import spotipy\n",
    "import spotipy.util as util\n",
    "import pandas as pd\n",
    "import numpy as np\n",
    "import matplotlib.pyplot as plt\n",
    "import seaborn as sns\n",
    "%matplotlib inline\n",
    "from sklearn.naive_bayes import GaussianNB, BernoulliNB, MultinomialNB\n",
    "from sklearn.model_selection import train_test_split\n",
    "from sklearn.datasets import load_iris\n",
    "from sklearn.metrics import accuracy_score\n",
    "from sklearn.linear_model import LinearRegression\n",
    "from sklearn.preprocessing import PolynomialFeatures\n",
    "from sklearn.pipeline import make_pipeline\n",
    "from sklearn.learning_curve import validation_curve\n",
    "import statsmodels.api as sm\n",
    "import statsmodels.formula.api as sm\n",
    "from surprise import Reader, Dataset\n",
    "from sklearn.cluster import KMeans\n",
    "from sklearn.preprocessing import LabelEncoder\n",
    "from sklearn.preprocessing import MinMaxScaler"
   ]
  },
  {
   "cell_type": "code",
   "execution_count": 2,
   "metadata": {},
   "outputs": [],
   "source": [
    "def call_api(username, scope):\n",
    "    token = util.prompt_for_user_token(username,scope,client_id='4849430a2b114eae9d8eaf2c1f14f612',client_secret='11b854b009344409861112df56d9cf44',redirect_uri='http://127.0.0.1:8050/dashboard') \n",
    "    return token"
   ]
  },
  {
   "cell_type": "code",
   "execution_count": 3,
   "metadata": {},
   "outputs": [],
   "source": [
    "token = call_api('mrethana', 'user-top-read')\n",
    "sp = spotipy.Spotify(auth=token)"
   ]
  },
  {
   "cell_type": "code",
   "execution_count": 4,
   "metadata": {},
   "outputs": [],
   "source": [
    "def create_top_tracks_dict(period):\n",
    "    list_tracks =[]\n",
    "    for offset in range(0,500,49):\n",
    "        x = sp.current_user_top_tracks(49,offset,period)\n",
    "        temp = [track for track in x['items']]\n",
    "        list_tracks.extend(temp)\n",
    "#     import pdb; pdb.set_trace()\n",
    "    top_track_dict = [{'album':item['album']['name'], 'album_id':item['album']['id'], 'album_release':item['album']['release_date'],'artist':item['artists'][0]['name'],'track_name':item['name'],'track_id':item['id']} for item in list_tracks]\n",
    "    for item in list_tracks:\n",
    "        for dic in top_track_dict:\n",
    "            if item['id'] == dic['track_id']:\n",
    "                if len(item['artists']) > 1:\n",
    "                    dic['feature'] = item['artists'][1]['name']\n",
    "                else:\n",
    "                    dic['feature'] = 'No Feature'\n",
    "    return top_track_dict\n",
    "# lt = create_top_tracks_dict('long_term')\n",
    "\n",
    "\n",
    "\n"
   ]
  },
  {
   "cell_type": "code",
   "execution_count": 5,
   "metadata": {},
   "outputs": [],
   "source": [
    "def all_features(dictionary):\n",
    "    all_features = []\n",
    "    for item in dictionary:\n",
    "        all_features.extend(sp.audio_features(item['track_id']))\n",
    "    return all_features\n",
    "# lt_feat = all_features(lt)\n",
    "\n",
    "def add_features(all_features, dictionary):\n",
    "    for dic in dictionary:\n",
    "        for item in all_features:\n",
    "            if dic['track_id'] == item['id']:\n",
    "                dic['danceability'] = item['danceability']\n",
    "                dic['energy'] = item['energy']\n",
    "                dic['loudness'] = item['loudness']\n",
    "                dic['key'] = item['key']\n",
    "                dic['acousticness'] = item['acousticness']\n",
    "                dic['valence'] = item['valence']\n",
    "                dic['tempo'] = item['tempo']\n",
    "\n"
   ]
  },
  {
   "cell_type": "code",
   "execution_count": 27,
   "metadata": {},
   "outputs": [],
   "source": [
    "# def audio_analysis(id_list):\n",
    "#     full_list = []\n",
    "#     for id in id_list:\n",
    "#         analysis = sp.audio_analysis(id)\n",
    "#         inputs = analysis['segments']\n",
    "#         analysis_dict = [{'pitches':round(sum(item['pitches'])/len(item['pitches']),1), 'timbre':round(sum(item['timbre'])/len(item['timbre']))} for item in inputs]\n",
    "#         full_list.extend(analysis_dict)\n",
    "#     return full_list\n",
    "# #     analysis_dict = {'pitches': }\n",
    "# #     item['pitches'] = sum(item['pitches'])/len(item['pitches'])\n",
    "# #     item['timbre'] = sum(item['timbre'])/len(item['timbre'])\n",
    "# x = audio_analysis(id_list_lt)\n",
    "# df2 = pd.DataFrame(x)"
   ]
  },
  {
   "cell_type": "code",
   "execution_count": null,
   "metadata": {},
   "outputs": [],
   "source": []
  },
  {
   "cell_type": "code",
   "execution_count": 6,
   "metadata": {},
   "outputs": [],
   "source": [
    "lt = create_top_tracks_dict('long_term')\n",
    "lt_feat = all_features(lt)\n",
    "add_features(lt_feat, lt)\n",
    "# st = create_top_tracks_dict('short_term')\n",
    "# st_feat = all_features(st)\n",
    "# add_features(st_feat, st)\n",
    "# mt = create_top_tracks_dict('medium_term')\n",
    "# mt_feat = all_features(mt)\n",
    "# add_features(mt_feat, mt)"
   ]
  },
  {
   "cell_type": "code",
   "execution_count": 7,
   "metadata": {},
   "outputs": [],
   "source": [
    "st = create_top_tracks_dict('short_term')\n",
    "st_feat = all_features(st)\n",
    "add_features(st_feat, st)\n"
   ]
  },
  {
   "cell_type": "code",
   "execution_count": 8,
   "metadata": {},
   "outputs": [],
   "source": [
    "mt = create_top_tracks_dict('medium_term')\n",
    "mt_feat = all_features(mt)\n",
    "add_features(mt_feat, mt)"
   ]
  },
  {
   "cell_type": "code",
   "execution_count": 9,
   "metadata": {},
   "outputs": [],
   "source": [
    "lt_df = pd.DataFrame(lt)\n",
    "st_df = pd.DataFrame(st)\n",
    "mt_df = pd.DataFrame(mt)"
   ]
  },
  {
   "cell_type": "code",
   "execution_count": 10,
   "metadata": {},
   "outputs": [],
   "source": [
    "lt_df['rank'] = range(1, len(lt_df) + 1)\n",
    "mt_df['rank'] = range(1, len(mt_df) + 1)\n",
    "st_df['rank'] = range(1, len(st_df) + 1)"
   ]
  },
  {
   "cell_type": "code",
   "execution_count": 11,
   "metadata": {},
   "outputs": [],
   "source": [
    "lt_df['percentile'] = pd.qcut(lt_df['rank'],20,retbins = False, labels=False)\n",
    "mt_df['percentile'] = pd.qcut(mt_df['rank'],20,retbins = False, labels=False)\n",
    "st_df['percentile'] = pd.qcut(st_df['rank'],20,retbins = False, labels=False)"
   ]
  },
  {
   "cell_type": "code",
   "execution_count": 12,
   "metadata": {},
   "outputs": [],
   "source": [
    "frames = [lt_df, st_df, mt_df]\n",
    "\n",
    "all_df = pd.concat(frames)"
   ]
  },
  {
   "cell_type": "code",
   "execution_count": 13,
   "metadata": {},
   "outputs": [
    {
     "data": {
      "text/plain": [
       "acousticness   -0.065232\n",
       "key            -0.052582\n",
       "loudness        0.003097\n",
       "danceability    0.052152\n",
       "energy          0.060523\n",
       "valence         0.108250\n",
       "tempo           0.112572\n",
       "rank            0.998756\n",
       "percentile      1.000000\n",
       "Name: percentile, dtype: float64"
      ]
     },
     "execution_count": 13,
     "metadata": {},
     "output_type": "execute_result"
    }
   ],
   "source": [
    "all_df.corr()['percentile'].sort_values()"
   ]
  },
  {
   "cell_type": "code",
   "execution_count": 40,
   "metadata": {},
   "outputs": [],
   "source": [
    "category_df = all_df.select_dtypes('object')"
   ]
  },
  {
   "cell_type": "code",
   "execution_count": null,
   "metadata": {},
   "outputs": [],
   "source": [
    "sns.cor"
   ]
  },
  {
   "cell_type": "code",
   "execution_count": 15,
   "metadata": {
    "scrolled": true
   },
   "outputs": [
    {
     "data": {
      "text/plain": [
       "<matplotlib.axes._subplots.AxesSubplot at 0x1a22191ba8>"
      ]
     },
     "execution_count": 15,
     "metadata": {},
     "output_type": "execute_result"
    },
    {
     "data": {
      "image/png": "[encoded data removed]",
      "text/plain": [
       "<Figure size 432x288 with 6 Axes>"
      ]
     },
     "metadata": {},
     "output_type": "display_data"
    }
   ],
   "source": [
    "fig, axs = plt.subplots(ncols=2, nrows =3)\n",
    "# sns.regplot(x='value', y='wage', data=df_melt, ax=axs[0])\n",
    "# sns.regplot(x='value', y='wage', data=df_melt, ax=axs[1])\n",
    "# sns.boxplot(x='education',y='wage', data=df_melt, ax=axs[2])\n",
    "sns.boxplot(x=\"percentile\", y=\"key\", data=all_df, ax=axs[0][0])\n",
    "sns.boxplot(x=\"percentile\", y=\"danceability\", data=all_df, ax=axs[1][0])\n",
    "sns.boxplot(x=\"percentile\", y=\"valence\", data=all_df, ax=axs[2][0])\n",
    "sns.boxplot(x=\"percentile\", y=\"loudness\", data=all_df, ax=axs[0][1])\n",
    "sns.boxplot(x=\"percentile\", y=\"tempo\", data=all_df, ax=axs[1][1])\n",
    "sns.boxplot(x=\"percentile\", y=\"acousticness\", data=all_df, ax=axs[2][1])\n",
    "\n"
   ]
  },
  {
   "cell_type": "code",
   "execution_count": 46,
   "metadata": {},
   "outputs": [],
   "source": []
  },
  {
   "cell_type": "code",
   "execution_count": 16,
   "metadata": {},
   "outputs": [],
   "source": [
    "def poly_regression(x, y, degree_range, xlim_min, xlim_max, ylim_min, ylim_max,xfit1, xfit2, alpha = .75,s = 5,width = 2.5):\n",
    "    plt.figure(figsize = (10,10))\n",
    "    plt.scatter(x, y, s = s, alpha = alpha)\n",
    "    plt.ylim(ylim_min, ylim_max)\n",
    "    plt.xlim(xlim_min,xlim_max)\n",
    "    for degree in degree_range:\n",
    "        poly_model = make_pipeline(PolynomialFeatures(degree),\n",
    "                               LinearRegression())\n",
    "        poly_model.fit(x[:, np.newaxis], y)\n",
    "        xfit = np.linspace(xfit1,xfit2, 10000)\n",
    "        yfit = poly_model.predict(xfit[:, np.newaxis])\n",
    "        plt.plot(xfit, yfit, label = 'degree={}'.format(degree),linewidth=width)\n",
    "    plt.legend(loc = 'best')"
   ]
  },
  {
   "cell_type": "code",
   "execution_count": 110,
   "metadata": {},
   "outputs": [],
   "source": [
    "cluster_df = all_df[(all_df.percentile<5)]"
   ]
  },
  {
   "cell_type": "code",
   "execution_count": null,
   "metadata": {},
   "outputs": [],
   "source": []
  },
  {
   "cell_type": "code",
   "execution_count": 108,
   "metadata": {},
   "outputs": [
    {
     "name": "stdout",
     "output_type": "stream",
     "text": [
      "24\n",
      "18\n",
      "22\n",
      "9\n",
      "19\n",
      "[[ 97.13008333   4.25      ]\n",
      " [152.852       13.27777778]\n",
      " [112.28786364  13.09090909]\n",
      " [196.38222222  10.77777778]\n",
      " [ 82.34963158  14.10526316]\n",
      " [137.94592308  15.69230769]\n",
      " [ 82.9376       3.8       ]\n",
      " [119.49312121   4.6969697 ]\n",
      " [125.22642308  15.92307692]\n",
      " [ 99.02260606  14.15151515]\n",
      " [ 67.7115       7.625     ]\n",
      " [142.73815385   5.61538462]\n",
      " [176.39277778  10.66666667]\n",
      " [127.78335294   2.35294118]\n",
      " [108.4275       5.23076923]]\n"
     ]
    }
   ],
   "source": [
    "X = cluster_df[['tempo','percentile']]\n",
    "kmeans = KMeans(n_clusters=15)\n",
    "kmeans.fit(X)\n",
    "y_kmeans = kmeans.predict(X)\n",
    "cluster_df['tempo_cluster'] = y_kmeans\n",
    "print(len(y_kmeans[(y_kmeans == 0)]))\n",
    "print(len(y_kmeans[(y_kmeans == 1)]))\n",
    "print(len(y_kmeans[(y_kmeans == 2)]))\n",
    "print(len(y_kmeans[(y_kmeans == 3)]))\n",
    "print(len(y_kmeans[(y_kmeans == 4)]))\n",
    "print(kmeans.cluster_centers_)"
   ]
  },
  {
   "cell_type": "code",
   "execution_count": 109,
   "metadata": {},
   "outputs": [
    {
     "data": {
      "text/plain": [
       "<matplotlib.collections.PathCollection at 0x1c2aa31208>"
      ]
     },
     "execution_count": 109,
     "metadata": {},
     "output_type": "execute_result"
    },
    {
     "data": {
      "text/plain": [
       "<Figure size 720x720 with 0 Axes>"
      ]
     },
     "metadata": {},
     "output_type": "display_data"
    },
    {
     "data": {
      "image/png": "[encoded data removed]",
      "text/plain": [
       "<Figure size 432x288 with 1 Axes>"
      ]
     },
     "metadata": {},
     "output_type": "display_data"
    }
   ],
   "source": [
    "from mpl_toolkits.mplot3d import Axes3D\n",
    "plt.figure(figsize = (10,10))\n",
    "fig = plt.figure()\n",
    "plt.scatter(cluster_df.tempo,cluster_df.percentile, c=y_kmeans, s=50, cmap='viridis')\n",
    "\n",
    "centers = kmeans.cluster_centers_\n",
    "plt.scatter(centers[:, 0],centers[:, 1], c='black', s=200, alpha=0.5)"
   ]
  },
  {
   "cell_type": "code",
   "execution_count": 102,
   "metadata": {},
   "outputs": [
    {
     "data": {
      "text/html": [
       "<iframe id=\"igraph\" scrolling=\"no\" style=\"border:none;\" seamless=\"seamless\" src=\"https://plot.ly/~mrethana/32.embed\" height=\"525px\" width=\"100%\"></iframe>"
      ],
      "text/plain": [
       "<plotly.tools.PlotlyDisplay object>"
      ]
     },
     "execution_count": 102,
     "metadata": {},
     "output_type": "execute_result"
    }
   ],
   "source": [
    "import plotly.plotly as py\n",
    "import plotly.graph_objs as go\n",
    "\n",
    "import numpy as np\n",
    "\n",
    "trace1 = go.Scatter3d(\n",
    "    x=cluster_df.tempo,\n",
    "    y=cluster_df.danceability,\n",
    "    z=cluster_df.percentile,\n",
    "    mode='markers',\n",
    "    marker=dict(\n",
    "        size=12,\n",
    "        color=y_kmeans,                # set color to an array/list of desired values\n",
    "        colorscale='Viridis',   # choose a colorscale\n",
    "        opacity=0.8\n",
    "    ))\n",
    "\n",
    "\n",
    "trace2 = go.Scatter3d(\n",
    "    x=centers[:, 0],\n",
    "    y=centers[:, 1],\n",
    "    z=centers[:, 2],\n",
    "    mode='markers',\n",
    "    marker=dict(\n",
    "        size=12,\n",
    "        color='black',                # set color to an array/list of desired values\n",
    "        colorscale='Viridis',   # choose a colorscale\n",
    "        opacity=0.3\n",
    "    )\n",
    ")\n",
    "\n",
    "data = [trace1,trace2]\n",
    "layout = go.Layout(\n",
    "    margin=dict(\n",
    "        l=0,\n",
    "        r=0,\n",
    "        b=0,\n",
    "        t=0\n",
    "    )\n",
    ")\n",
    "fig = go.Figure(data=data, layout=layout)\n",
    "py.iplot(fig)"
   ]
  },
  {
   "cell_type": "code",
   "execution_count": 265,
   "metadata": {},
   "outputs": [],
   "source": [
    "# def artists_tracks(artist_name):\n",
    "#     final = []\n",
    "#     for i in range(0,500,50):\n",
    "#         temp = sp.search(artist_name, limit=50,offset = i, type = 'track')\n",
    "#         results = temp['tracks']['items']\n",
    "#         final.extend(results)\n",
    "#     track_dict = [{'album':item['album']['name'], 'album_id':item['album']['id'], 'album_release':item['album']['release_date'],'artist':item['artists'][0]['name'],'track_name':item['name'],'track_id':item['id']} for item in final]\n",
    "#     for item in final:\n",
    "#         for dic in track_dict:\n",
    "#             if item['id'] == dic['track_id']:\n",
    "#                 if len(item['artists']) > 1:\n",
    "#                     dic['feature'] = item['artists'][1]['name']\n",
    "#             else:\n",
    "#                 dic['feature'] = 'No Feature'\n",
    "#     artist_dic = track_dict\n",
    "#     feat = all_features(artist_dic)\n",
    "#     add_features(feat, track_dict)\n",
    "#     return artist_dic\n",
    "\n"
   ]
  },
  {
   "cell_type": "code",
   "execution_count": 17,
   "metadata": {},
   "outputs": [
    {
     "data": {
      "text/plain": [
       "acousticness     float64\n",
       "album             object\n",
       "album_id          object\n",
       "album_release     object\n",
       "artist            object\n",
       "danceability     float64\n",
       "energy           float64\n",
       "feature           object\n",
       "key                int64\n",
       "loudness         float64\n",
       "tempo            float64\n",
       "track_id          object\n",
       "track_name        object\n",
       "valence          float64\n",
       "rank               int64\n",
       "percentile         int64\n",
       "dtype: object"
      ]
     },
     "execution_count": 17,
     "metadata": {},
     "output_type": "execute_result"
    }
   ],
   "source": [
    "all_df.dtypes"
   ]
  },
  {
   "cell_type": "code",
   "execution_count": 63,
   "metadata": {},
   "outputs": [],
   "source": [
    "token = call_api('mrethana', 'user-top-read')\n",
    "sp = spotipy.Spotify(auth=token)"
   ]
  },
  {
   "cell_type": "code",
   "execution_count": 64,
   "metadata": {},
   "outputs": [],
   "source": [
    "def artist_tracks_dict(artist_name):\n",
    "    list_tracks =[]\n",
    "    for offset in range(0,500,50):\n",
    "        x = sp.search(artist_name, 50, offset, type = 'track')\n",
    "        temp = [track for track in x['tracks']['items']]\n",
    "        list_tracks.extend(temp)\n",
    "    top_track_dict = [{'album':item['album']['name'], 'album_id':item['album']['id'], 'album_release':item['album']['release_date'],'artist':item['artists'][0]['name'],'track_name':item['name'],'track_id':item['id']} for item in list_tracks]\n",
    "    for piece in list_tracks:\n",
    "        for section in top_track_dict:\n",
    "            if piece['id'] == section['track_id']:\n",
    "                if len(piece['artists']) > 1:\n",
    "                    section['feature'] = piece['artists'][1]['name']\n",
    "                else:\n",
    "                    section['feature'] = 'No Feature'\n",
    "    example = top_track_dict\n",
    "    feat = all_features(example)\n",
    "    artist_features(feat,example)\n",
    "    return top_track_dict"
   ]
  },
  {
   "cell_type": "code",
   "execution_count": 65,
   "metadata": {},
   "outputs": [],
   "source": [
    "def artist_features(features_for_tracks, dictionary):\n",
    "    for dic in dictionary:\n",
    "        for item in features_for_tracks:\n",
    "            if item == None:\n",
    "                pass\n",
    "            else:\n",
    "                if dic['track_id'] == item['id']:\n",
    "                    dic['danceability'] = item['danceability']\n",
    "                    dic['energy'] = item['energy']\n",
    "                    dic['loudness'] = item['loudness']\n",
    "                    dic['key'] = item['key']\n",
    "                    dic['acousticness'] = item['acousticness']\n",
    "                    dic['valence'] = item['valence']\n",
    "                    dic['tempo'] = item['tempo']\n"
   ]
  },
  {
   "cell_type": "code",
   "execution_count": 72,
   "metadata": {
    "scrolled": false
   },
   "outputs": [],
   "source": [
    "artist = artist_tracks_dict('troy sivan')\n"
   ]
  },
  {
   "cell_type": "code",
   "execution_count": 73,
   "metadata": {},
   "outputs": [
    {
     "ename": "UndefinedVariableError",
     "evalue": "name 'artist' is not defined",
     "output_type": "error",
     "traceback": [
      "\u001b[0;31m---------------------------------------------------------------------------\u001b[0m",
      "\u001b[0;31mKeyError\u001b[0m                                  Traceback (most recent call last)",
      "\u001b[0;32m/anaconda3/lib/python3.6/site-packages/pandas/core/computation/scope.py\u001b[0m in \u001b[0;36mresolve\u001b[0;34m(self, key, is_local)\u001b[0m\n\u001b[1;32m    180\u001b[0m             \u001b[0;32mif\u001b[0m \u001b[0mself\u001b[0m\u001b[0;34m.\u001b[0m\u001b[0mhas_resolvers\u001b[0m\u001b[0;34m:\u001b[0m\u001b[0;34m\u001b[0m\u001b[0m\n\u001b[0;32m--> 181\u001b[0;31m                 \u001b[0;32mreturn\u001b[0m \u001b[0mself\u001b[0m\u001b[0;34m.\u001b[0m\u001b[0mresolvers\u001b[0m\u001b[0;34m[\u001b[0m\u001b[0mkey\u001b[0m\u001b[0;34m]\u001b[0m\u001b[0;34m\u001b[0m\u001b[0m\n\u001b[0m\u001b[1;32m    182\u001b[0m \u001b[0;34m\u001b[0m\u001b[0m\n",
      "\u001b[0;32m/anaconda3/lib/python3.6/collections/__init__.py\u001b[0m in \u001b[0;36m__getitem__\u001b[0;34m(self, key)\u001b[0m\n\u001b[1;32m    882\u001b[0m                 \u001b[0;32mpass\u001b[0m\u001b[0;34m\u001b[0m\u001b[0m\n\u001b[0;32m--> 883\u001b[0;31m         \u001b[0;32mreturn\u001b[0m \u001b[0mself\u001b[0m\u001b[0;34m.\u001b[0m\u001b[0m__missing__\u001b[0m\u001b[0;34m(\u001b[0m\u001b[0mkey\u001b[0m\u001b[0;34m)\u001b[0m            \u001b[0;31m# support subclasses that define __missing__\u001b[0m\u001b[0;34m\u001b[0m\u001b[0m\n\u001b[0m\u001b[1;32m    884\u001b[0m \u001b[0;34m\u001b[0m\u001b[0m\n",
      "\u001b[0;32m/anaconda3/lib/python3.6/collections/__init__.py\u001b[0m in \u001b[0;36m__missing__\u001b[0;34m(self, key)\u001b[0m\n\u001b[1;32m    874\u001b[0m     \u001b[0;32mdef\u001b[0m \u001b[0m__missing__\u001b[0m\u001b[0;34m(\u001b[0m\u001b[0mself\u001b[0m\u001b[0;34m,\u001b[0m \u001b[0mkey\u001b[0m\u001b[0;34m)\u001b[0m\u001b[0;34m:\u001b[0m\u001b[0;34m\u001b[0m\u001b[0m\n\u001b[0;32m--> 875\u001b[0;31m         \u001b[0;32mraise\u001b[0m \u001b[0mKeyError\u001b[0m\u001b[0;34m(\u001b[0m\u001b[0mkey\u001b[0m\u001b[0;34m)\u001b[0m\u001b[0;34m\u001b[0m\u001b[0m\n\u001b[0m\u001b[1;32m    876\u001b[0m \u001b[0;34m\u001b[0m\u001b[0m\n",
      "\u001b[0;31mKeyError\u001b[0m: 'artist'",
      "\nDuring handling of the above exception, another exception occurred:\n",
      "\u001b[0;31mKeyError\u001b[0m                                  Traceback (most recent call last)",
      "\u001b[0;32m/anaconda3/lib/python3.6/site-packages/pandas/core/computation/scope.py\u001b[0m in \u001b[0;36mresolve\u001b[0;34m(self, key, is_local)\u001b[0m\n\u001b[1;32m    191\u001b[0m                 \u001b[0;31m# e.g., df[df > 0]\u001b[0m\u001b[0;34m\u001b[0m\u001b[0;34m\u001b[0m\u001b[0m\n\u001b[0;32m--> 192\u001b[0;31m                 \u001b[0;32mreturn\u001b[0m \u001b[0mself\u001b[0m\u001b[0;34m.\u001b[0m\u001b[0mtemps\u001b[0m\u001b[0;34m[\u001b[0m\u001b[0mkey\u001b[0m\u001b[0;34m]\u001b[0m\u001b[0;34m\u001b[0m\u001b[0m\n\u001b[0m\u001b[1;32m    193\u001b[0m             \u001b[0;32mexcept\u001b[0m \u001b[0mKeyError\u001b[0m\u001b[0;34m:\u001b[0m\u001b[0;34m\u001b[0m\u001b[0m\n",
      "\u001b[0;31mKeyError\u001b[0m: 'artist'",
      "\nDuring handling of the above exception, another exception occurred:\n",
      "\u001b[0;31mUndefinedVariableError\u001b[0m                    Traceback (most recent call last)",
      "\u001b[0;32m<ipython-input-73-b9d4c0354664>\u001b[0m in \u001b[0;36m<module>\u001b[0;34m()\u001b[0m\n\u001b[1;32m      1\u001b[0m \u001b[0ma_df\u001b[0m \u001b[0;34m=\u001b[0m \u001b[0mpd\u001b[0m\u001b[0;34m.\u001b[0m\u001b[0mDataFrame\u001b[0m\u001b[0;34m(\u001b[0m\u001b[0martist\u001b[0m\u001b[0;34m)\u001b[0m\u001b[0;34m\u001b[0m\u001b[0m\n\u001b[0;32m----> 2\u001b[0;31m \u001b[0ma_df\u001b[0m \u001b[0;34m=\u001b[0m \u001b[0ma_df\u001b[0m\u001b[0;34m.\u001b[0m\u001b[0mquery\u001b[0m\u001b[0;34m(\u001b[0m\u001b[0;34m\"artist == 'Troy Sivan'\"\u001b[0m\u001b[0;34m)\u001b[0m\u001b[0;34m\u001b[0m\u001b[0m\n\u001b[0m\u001b[1;32m      3\u001b[0m \u001b[0ma_df\u001b[0m\u001b[0;34m\u001b[0m\u001b[0m\n",
      "\u001b[0;32m/anaconda3/lib/python3.6/site-packages/pandas/core/frame.py\u001b[0m in \u001b[0;36mquery\u001b[0;34m(self, expr, inplace, **kwargs)\u001b[0m\n\u001b[1;32m   2842\u001b[0m         \u001b[0mkwargs\u001b[0m\u001b[0;34m[\u001b[0m\u001b[0;34m'level'\u001b[0m\u001b[0;34m]\u001b[0m \u001b[0;34m=\u001b[0m \u001b[0mkwargs\u001b[0m\u001b[0;34m.\u001b[0m\u001b[0mpop\u001b[0m\u001b[0;34m(\u001b[0m\u001b[0;34m'level'\u001b[0m\u001b[0;34m,\u001b[0m \u001b[0;36m0\u001b[0m\u001b[0;34m)\u001b[0m \u001b[0;34m+\u001b[0m \u001b[0;36m1\u001b[0m\u001b[0;34m\u001b[0m\u001b[0m\n\u001b[1;32m   2843\u001b[0m         \u001b[0mkwargs\u001b[0m\u001b[0;34m[\u001b[0m\u001b[0;34m'target'\u001b[0m\u001b[0;34m]\u001b[0m \u001b[0;34m=\u001b[0m \u001b[0;32mNone\u001b[0m\u001b[0;34m\u001b[0m\u001b[0m\n\u001b[0;32m-> 2844\u001b[0;31m         \u001b[0mres\u001b[0m \u001b[0;34m=\u001b[0m \u001b[0mself\u001b[0m\u001b[0;34m.\u001b[0m\u001b[0meval\u001b[0m\u001b[0;34m(\u001b[0m\u001b[0mexpr\u001b[0m\u001b[0;34m,\u001b[0m \u001b[0;34m**\u001b[0m\u001b[0mkwargs\u001b[0m\u001b[0;34m)\u001b[0m\u001b[0;34m\u001b[0m\u001b[0m\n\u001b[0m\u001b[1;32m   2845\u001b[0m \u001b[0;34m\u001b[0m\u001b[0m\n\u001b[1;32m   2846\u001b[0m         \u001b[0;32mtry\u001b[0m\u001b[0;34m:\u001b[0m\u001b[0;34m\u001b[0m\u001b[0m\n",
      "\u001b[0;32m/anaconda3/lib/python3.6/site-packages/pandas/core/frame.py\u001b[0m in \u001b[0;36meval\u001b[0;34m(self, expr, inplace, **kwargs)\u001b[0m\n\u001b[1;32m   2957\u001b[0m             \u001b[0mkwargs\u001b[0m\u001b[0;34m[\u001b[0m\u001b[0;34m'target'\u001b[0m\u001b[0;34m]\u001b[0m \u001b[0;34m=\u001b[0m \u001b[0mself\u001b[0m\u001b[0;34m\u001b[0m\u001b[0m\n\u001b[1;32m   2958\u001b[0m         \u001b[0mkwargs\u001b[0m\u001b[0;34m[\u001b[0m\u001b[0;34m'resolvers'\u001b[0m\u001b[0;34m]\u001b[0m \u001b[0;34m=\u001b[0m \u001b[0mkwargs\u001b[0m\u001b[0;34m.\u001b[0m\u001b[0mget\u001b[0m\u001b[0;34m(\u001b[0m\u001b[0;34m'resolvers'\u001b[0m\u001b[0;34m,\u001b[0m \u001b[0;34m(\u001b[0m\u001b[0;34m)\u001b[0m\u001b[0;34m)\u001b[0m \u001b[0;34m+\u001b[0m \u001b[0mtuple\u001b[0m\u001b[0;34m(\u001b[0m\u001b[0mresolvers\u001b[0m\u001b[0;34m)\u001b[0m\u001b[0;34m\u001b[0m\u001b[0m\n\u001b[0;32m-> 2959\u001b[0;31m         \u001b[0;32mreturn\u001b[0m \u001b[0m_eval\u001b[0m\u001b[0;34m(\u001b[0m\u001b[0mexpr\u001b[0m\u001b[0;34m,\u001b[0m \u001b[0minplace\u001b[0m\u001b[0;34m=\u001b[0m\u001b[0minplace\u001b[0m\u001b[0;34m,\u001b[0m \u001b[0;34m**\u001b[0m\u001b[0mkwargs\u001b[0m\u001b[0;34m)\u001b[0m\u001b[0;34m\u001b[0m\u001b[0m\n\u001b[0m\u001b[1;32m   2960\u001b[0m \u001b[0;34m\u001b[0m\u001b[0m\n\u001b[1;32m   2961\u001b[0m     \u001b[0;32mdef\u001b[0m \u001b[0mselect_dtypes\u001b[0m\u001b[0;34m(\u001b[0m\u001b[0mself\u001b[0m\u001b[0;34m,\u001b[0m \u001b[0minclude\u001b[0m\u001b[0;34m=\u001b[0m\u001b[0;32mNone\u001b[0m\u001b[0;34m,\u001b[0m \u001b[0mexclude\u001b[0m\u001b[0;34m=\u001b[0m\u001b[0;32mNone\u001b[0m\u001b[0;34m)\u001b[0m\u001b[0;34m:\u001b[0m\u001b[0;34m\u001b[0m\u001b[0m\n",
      "\u001b[0;32m/anaconda3/lib/python3.6/site-packages/pandas/core/computation/eval.py\u001b[0m in \u001b[0;36meval\u001b[0;34m(expr, parser, engine, truediv, local_dict, global_dict, resolvers, level, target, inplace)\u001b[0m\n\u001b[1;32m    289\u001b[0m \u001b[0;34m\u001b[0m\u001b[0m\n\u001b[1;32m    290\u001b[0m         parsed_expr = Expr(expr, engine=engine, parser=parser, env=env,\n\u001b[0;32m--> 291\u001b[0;31m                            truediv=truediv)\n\u001b[0m\u001b[1;32m    292\u001b[0m \u001b[0;34m\u001b[0m\u001b[0m\n\u001b[1;32m    293\u001b[0m         \u001b[0;31m# construct the engine and evaluate the parsed expression\u001b[0m\u001b[0;34m\u001b[0m\u001b[0;34m\u001b[0m\u001b[0m\n",
      "\u001b[0;32m/anaconda3/lib/python3.6/site-packages/pandas/core/computation/expr.py\u001b[0m in \u001b[0;36m__init__\u001b[0;34m(self, expr, engine, parser, env, truediv, level)\u001b[0m\n\u001b[1;32m    737\u001b[0m         \u001b[0mself\u001b[0m\u001b[0;34m.\u001b[0m\u001b[0menv\u001b[0m\u001b[0;34m.\u001b[0m\u001b[0mscope\u001b[0m\u001b[0;34m[\u001b[0m\u001b[0;34m'truediv'\u001b[0m\u001b[0;34m]\u001b[0m \u001b[0;34m=\u001b[0m \u001b[0mtruediv\u001b[0m\u001b[0;34m\u001b[0m\u001b[0m\n\u001b[1;32m    738\u001b[0m         \u001b[0mself\u001b[0m\u001b[0;34m.\u001b[0m\u001b[0m_visitor\u001b[0m \u001b[0;34m=\u001b[0m \u001b[0m_parsers\u001b[0m\u001b[0;34m[\u001b[0m\u001b[0mparser\u001b[0m\u001b[0;34m]\u001b[0m\u001b[0;34m(\u001b[0m\u001b[0mself\u001b[0m\u001b[0;34m.\u001b[0m\u001b[0menv\u001b[0m\u001b[0;34m,\u001b[0m \u001b[0mself\u001b[0m\u001b[0;34m.\u001b[0m\u001b[0mengine\u001b[0m\u001b[0;34m,\u001b[0m \u001b[0mself\u001b[0m\u001b[0;34m.\u001b[0m\u001b[0mparser\u001b[0m\u001b[0;34m)\u001b[0m\u001b[0;34m\u001b[0m\u001b[0m\n\u001b[0;32m--> 739\u001b[0;31m         \u001b[0mself\u001b[0m\u001b[0;34m.\u001b[0m\u001b[0mterms\u001b[0m \u001b[0;34m=\u001b[0m \u001b[0mself\u001b[0m\u001b[0;34m.\u001b[0m\u001b[0mparse\u001b[0m\u001b[0;34m(\u001b[0m\u001b[0;34m)\u001b[0m\u001b[0;34m\u001b[0m\u001b[0m\n\u001b[0m\u001b[1;32m    740\u001b[0m \u001b[0;34m\u001b[0m\u001b[0m\n\u001b[1;32m    741\u001b[0m     \u001b[0;34m@\u001b[0m\u001b[0mproperty\u001b[0m\u001b[0;34m\u001b[0m\u001b[0m\n",
      "\u001b[0;32m/anaconda3/lib/python3.6/site-packages/pandas/core/computation/expr.py\u001b[0m in \u001b[0;36mparse\u001b[0;34m(self)\u001b[0m\n\u001b[1;32m    754\u001b[0m     \u001b[0;32mdef\u001b[0m \u001b[0mparse\u001b[0m\u001b[0;34m(\u001b[0m\u001b[0mself\u001b[0m\u001b[0;34m)\u001b[0m\u001b[0;34m:\u001b[0m\u001b[0;34m\u001b[0m\u001b[0m\n\u001b[1;32m    755\u001b[0m         \u001b[0;34m\"\"\"Parse an expression\"\"\"\u001b[0m\u001b[0;34m\u001b[0m\u001b[0m\n\u001b[0;32m--> 756\u001b[0;31m         \u001b[0;32mreturn\u001b[0m \u001b[0mself\u001b[0m\u001b[0;34m.\u001b[0m\u001b[0m_visitor\u001b[0m\u001b[0;34m.\u001b[0m\u001b[0mvisit\u001b[0m\u001b[0;34m(\u001b[0m\u001b[0mself\u001b[0m\u001b[0;34m.\u001b[0m\u001b[0mexpr\u001b[0m\u001b[0;34m)\u001b[0m\u001b[0;34m\u001b[0m\u001b[0m\n\u001b[0m\u001b[1;32m    757\u001b[0m \u001b[0;34m\u001b[0m\u001b[0m\n\u001b[1;32m    758\u001b[0m     \u001b[0;34m@\u001b[0m\u001b[0mproperty\u001b[0m\u001b[0;34m\u001b[0m\u001b[0m\n",
      "\u001b[0;32m/anaconda3/lib/python3.6/site-packages/pandas/core/computation/expr.py\u001b[0m in \u001b[0;36mvisit\u001b[0;34m(self, node, **kwargs)\u001b[0m\n\u001b[1;32m    319\u001b[0m         \u001b[0mmethod\u001b[0m \u001b[0;34m=\u001b[0m \u001b[0;34m'visit_'\u001b[0m \u001b[0;34m+\u001b[0m \u001b[0mnode\u001b[0m\u001b[0;34m.\u001b[0m\u001b[0m__class__\u001b[0m\u001b[0;34m.\u001b[0m\u001b[0m__name__\u001b[0m\u001b[0;34m\u001b[0m\u001b[0m\n\u001b[1;32m    320\u001b[0m         \u001b[0mvisitor\u001b[0m \u001b[0;34m=\u001b[0m \u001b[0mgetattr\u001b[0m\u001b[0;34m(\u001b[0m\u001b[0mself\u001b[0m\u001b[0;34m,\u001b[0m \u001b[0mmethod\u001b[0m\u001b[0;34m)\u001b[0m\u001b[0;34m\u001b[0m\u001b[0m\n\u001b[0;32m--> 321\u001b[0;31m         \u001b[0;32mreturn\u001b[0m \u001b[0mvisitor\u001b[0m\u001b[0;34m(\u001b[0m\u001b[0mnode\u001b[0m\u001b[0;34m,\u001b[0m \u001b[0;34m**\u001b[0m\u001b[0mkwargs\u001b[0m\u001b[0;34m)\u001b[0m\u001b[0;34m\u001b[0m\u001b[0m\n\u001b[0m\u001b[1;32m    322\u001b[0m \u001b[0;34m\u001b[0m\u001b[0m\n\u001b[1;32m    323\u001b[0m     \u001b[0;32mdef\u001b[0m \u001b[0mvisit_Module\u001b[0m\u001b[0;34m(\u001b[0m\u001b[0mself\u001b[0m\u001b[0;34m,\u001b[0m \u001b[0mnode\u001b[0m\u001b[0;34m,\u001b[0m \u001b[0;34m**\u001b[0m\u001b[0mkwargs\u001b[0m\u001b[0;34m)\u001b[0m\u001b[0;34m:\u001b[0m\u001b[0;34m\u001b[0m\u001b[0m\n",
      "\u001b[0;32m/anaconda3/lib/python3.6/site-packages/pandas/core/computation/expr.py\u001b[0m in \u001b[0;36mvisit_Module\u001b[0;34m(self, node, **kwargs)\u001b[0m\n\u001b[1;32m    325\u001b[0m             \u001b[0;32mraise\u001b[0m \u001b[0mSyntaxError\u001b[0m\u001b[0;34m(\u001b[0m\u001b[0;34m'only a single expression is allowed'\u001b[0m\u001b[0;34m)\u001b[0m\u001b[0;34m\u001b[0m\u001b[0m\n\u001b[1;32m    326\u001b[0m         \u001b[0mexpr\u001b[0m \u001b[0;34m=\u001b[0m \u001b[0mnode\u001b[0m\u001b[0;34m.\u001b[0m\u001b[0mbody\u001b[0m\u001b[0;34m[\u001b[0m\u001b[0;36m0\u001b[0m\u001b[0;34m]\u001b[0m\u001b[0;34m\u001b[0m\u001b[0m\n\u001b[0;32m--> 327\u001b[0;31m         \u001b[0;32mreturn\u001b[0m \u001b[0mself\u001b[0m\u001b[0;34m.\u001b[0m\u001b[0mvisit\u001b[0m\u001b[0;34m(\u001b[0m\u001b[0mexpr\u001b[0m\u001b[0;34m,\u001b[0m \u001b[0;34m**\u001b[0m\u001b[0mkwargs\u001b[0m\u001b[0;34m)\u001b[0m\u001b[0;34m\u001b[0m\u001b[0m\n\u001b[0m\u001b[1;32m    328\u001b[0m \u001b[0;34m\u001b[0m\u001b[0m\n\u001b[1;32m    329\u001b[0m     \u001b[0;32mdef\u001b[0m \u001b[0mvisit_Expr\u001b[0m\u001b[0;34m(\u001b[0m\u001b[0mself\u001b[0m\u001b[0;34m,\u001b[0m \u001b[0mnode\u001b[0m\u001b[0;34m,\u001b[0m \u001b[0;34m**\u001b[0m\u001b[0mkwargs\u001b[0m\u001b[0;34m)\u001b[0m\u001b[0;34m:\u001b[0m\u001b[0;34m\u001b[0m\u001b[0m\n",
      "\u001b[0;32m/anaconda3/lib/python3.6/site-packages/pandas/core/computation/expr.py\u001b[0m in \u001b[0;36mvisit\u001b[0;34m(self, node, **kwargs)\u001b[0m\n\u001b[1;32m    319\u001b[0m         \u001b[0mmethod\u001b[0m \u001b[0;34m=\u001b[0m \u001b[0;34m'visit_'\u001b[0m \u001b[0;34m+\u001b[0m \u001b[0mnode\u001b[0m\u001b[0;34m.\u001b[0m\u001b[0m__class__\u001b[0m\u001b[0;34m.\u001b[0m\u001b[0m__name__\u001b[0m\u001b[0;34m\u001b[0m\u001b[0m\n\u001b[1;32m    320\u001b[0m         \u001b[0mvisitor\u001b[0m \u001b[0;34m=\u001b[0m \u001b[0mgetattr\u001b[0m\u001b[0;34m(\u001b[0m\u001b[0mself\u001b[0m\u001b[0;34m,\u001b[0m \u001b[0mmethod\u001b[0m\u001b[0;34m)\u001b[0m\u001b[0;34m\u001b[0m\u001b[0m\n\u001b[0;32m--> 321\u001b[0;31m         \u001b[0;32mreturn\u001b[0m \u001b[0mvisitor\u001b[0m\u001b[0;34m(\u001b[0m\u001b[0mnode\u001b[0m\u001b[0;34m,\u001b[0m \u001b[0;34m**\u001b[0m\u001b[0mkwargs\u001b[0m\u001b[0;34m)\u001b[0m\u001b[0;34m\u001b[0m\u001b[0m\n\u001b[0m\u001b[1;32m    322\u001b[0m \u001b[0;34m\u001b[0m\u001b[0m\n\u001b[1;32m    323\u001b[0m     \u001b[0;32mdef\u001b[0m \u001b[0mvisit_Module\u001b[0m\u001b[0;34m(\u001b[0m\u001b[0mself\u001b[0m\u001b[0;34m,\u001b[0m \u001b[0mnode\u001b[0m\u001b[0;34m,\u001b[0m \u001b[0;34m**\u001b[0m\u001b[0mkwargs\u001b[0m\u001b[0;34m)\u001b[0m\u001b[0;34m:\u001b[0m\u001b[0;34m\u001b[0m\u001b[0m\n",
      "\u001b[0;32m/anaconda3/lib/python3.6/site-packages/pandas/core/computation/expr.py\u001b[0m in \u001b[0;36mvisit_Expr\u001b[0;34m(self, node, **kwargs)\u001b[0m\n\u001b[1;32m    328\u001b[0m \u001b[0;34m\u001b[0m\u001b[0m\n\u001b[1;32m    329\u001b[0m     \u001b[0;32mdef\u001b[0m \u001b[0mvisit_Expr\u001b[0m\u001b[0;34m(\u001b[0m\u001b[0mself\u001b[0m\u001b[0;34m,\u001b[0m \u001b[0mnode\u001b[0m\u001b[0;34m,\u001b[0m \u001b[0;34m**\u001b[0m\u001b[0mkwargs\u001b[0m\u001b[0;34m)\u001b[0m\u001b[0;34m:\u001b[0m\u001b[0;34m\u001b[0m\u001b[0m\n\u001b[0;32m--> 330\u001b[0;31m         \u001b[0;32mreturn\u001b[0m \u001b[0mself\u001b[0m\u001b[0;34m.\u001b[0m\u001b[0mvisit\u001b[0m\u001b[0;34m(\u001b[0m\u001b[0mnode\u001b[0m\u001b[0;34m.\u001b[0m\u001b[0mvalue\u001b[0m\u001b[0;34m,\u001b[0m \u001b[0;34m**\u001b[0m\u001b[0mkwargs\u001b[0m\u001b[0;34m)\u001b[0m\u001b[0;34m\u001b[0m\u001b[0m\n\u001b[0m\u001b[1;32m    331\u001b[0m \u001b[0;34m\u001b[0m\u001b[0m\n\u001b[1;32m    332\u001b[0m     \u001b[0;32mdef\u001b[0m \u001b[0m_rewrite_membership_op\u001b[0m\u001b[0;34m(\u001b[0m\u001b[0mself\u001b[0m\u001b[0;34m,\u001b[0m \u001b[0mnode\u001b[0m\u001b[0;34m,\u001b[0m \u001b[0mleft\u001b[0m\u001b[0;34m,\u001b[0m \u001b[0mright\u001b[0m\u001b[0;34m)\u001b[0m\u001b[0;34m:\u001b[0m\u001b[0;34m\u001b[0m\u001b[0m\n",
      "\u001b[0;32m/anaconda3/lib/python3.6/site-packages/pandas/core/computation/expr.py\u001b[0m in \u001b[0;36mvisit\u001b[0;34m(self, node, **kwargs)\u001b[0m\n\u001b[1;32m    319\u001b[0m         \u001b[0mmethod\u001b[0m \u001b[0;34m=\u001b[0m \u001b[0;34m'visit_'\u001b[0m \u001b[0;34m+\u001b[0m \u001b[0mnode\u001b[0m\u001b[0;34m.\u001b[0m\u001b[0m__class__\u001b[0m\u001b[0;34m.\u001b[0m\u001b[0m__name__\u001b[0m\u001b[0;34m\u001b[0m\u001b[0m\n\u001b[1;32m    320\u001b[0m         \u001b[0mvisitor\u001b[0m \u001b[0;34m=\u001b[0m \u001b[0mgetattr\u001b[0m\u001b[0;34m(\u001b[0m\u001b[0mself\u001b[0m\u001b[0;34m,\u001b[0m \u001b[0mmethod\u001b[0m\u001b[0;34m)\u001b[0m\u001b[0;34m\u001b[0m\u001b[0m\n\u001b[0;32m--> 321\u001b[0;31m         \u001b[0;32mreturn\u001b[0m \u001b[0mvisitor\u001b[0m\u001b[0;34m(\u001b[0m\u001b[0mnode\u001b[0m\u001b[0;34m,\u001b[0m \u001b[0;34m**\u001b[0m\u001b[0mkwargs\u001b[0m\u001b[0;34m)\u001b[0m\u001b[0;34m\u001b[0m\u001b[0m\n\u001b[0m\u001b[1;32m    322\u001b[0m \u001b[0;34m\u001b[0m\u001b[0m\n\u001b[1;32m    323\u001b[0m     \u001b[0;32mdef\u001b[0m \u001b[0mvisit_Module\u001b[0m\u001b[0;34m(\u001b[0m\u001b[0mself\u001b[0m\u001b[0;34m,\u001b[0m \u001b[0mnode\u001b[0m\u001b[0;34m,\u001b[0m \u001b[0;34m**\u001b[0m\u001b[0mkwargs\u001b[0m\u001b[0;34m)\u001b[0m\u001b[0;34m:\u001b[0m\u001b[0;34m\u001b[0m\u001b[0m\n",
      "\u001b[0;32m/anaconda3/lib/python3.6/site-packages/pandas/core/computation/expr.py\u001b[0m in \u001b[0;36mvisit_Compare\u001b[0;34m(self, node, **kwargs)\u001b[0m\n\u001b[1;32m    654\u001b[0m             \u001b[0mop\u001b[0m \u001b[0;34m=\u001b[0m \u001b[0mself\u001b[0m\u001b[0;34m.\u001b[0m\u001b[0mtranslate_In\u001b[0m\u001b[0;34m(\u001b[0m\u001b[0mops\u001b[0m\u001b[0;34m[\u001b[0m\u001b[0;36m0\u001b[0m\u001b[0;34m]\u001b[0m\u001b[0;34m)\u001b[0m\u001b[0;34m\u001b[0m\u001b[0m\n\u001b[1;32m    655\u001b[0m             \u001b[0mbinop\u001b[0m \u001b[0;34m=\u001b[0m \u001b[0mast\u001b[0m\u001b[0;34m.\u001b[0m\u001b[0mBinOp\u001b[0m\u001b[0;34m(\u001b[0m\u001b[0mop\u001b[0m\u001b[0;34m=\u001b[0m\u001b[0mop\u001b[0m\u001b[0;34m,\u001b[0m \u001b[0mleft\u001b[0m\u001b[0;34m=\u001b[0m\u001b[0mnode\u001b[0m\u001b[0;34m.\u001b[0m\u001b[0mleft\u001b[0m\u001b[0;34m,\u001b[0m \u001b[0mright\u001b[0m\u001b[0;34m=\u001b[0m\u001b[0mcomps\u001b[0m\u001b[0;34m[\u001b[0m\u001b[0;36m0\u001b[0m\u001b[0;34m]\u001b[0m\u001b[0;34m)\u001b[0m\u001b[0;34m\u001b[0m\u001b[0m\n\u001b[0;32m--> 656\u001b[0;31m             \u001b[0;32mreturn\u001b[0m \u001b[0mself\u001b[0m\u001b[0;34m.\u001b[0m\u001b[0mvisit\u001b[0m\u001b[0;34m(\u001b[0m\u001b[0mbinop\u001b[0m\u001b[0;34m)\u001b[0m\u001b[0;34m\u001b[0m\u001b[0m\n\u001b[0m\u001b[1;32m    657\u001b[0m \u001b[0;34m\u001b[0m\u001b[0m\n\u001b[1;32m    658\u001b[0m         \u001b[0;31m# recursive case: we have a chained comparison, a CMP b CMP c, etc.\u001b[0m\u001b[0;34m\u001b[0m\u001b[0;34m\u001b[0m\u001b[0m\n",
      "\u001b[0;32m/anaconda3/lib/python3.6/site-packages/pandas/core/computation/expr.py\u001b[0m in \u001b[0;36mvisit\u001b[0;34m(self, node, **kwargs)\u001b[0m\n\u001b[1;32m    319\u001b[0m         \u001b[0mmethod\u001b[0m \u001b[0;34m=\u001b[0m \u001b[0;34m'visit_'\u001b[0m \u001b[0;34m+\u001b[0m \u001b[0mnode\u001b[0m\u001b[0;34m.\u001b[0m\u001b[0m__class__\u001b[0m\u001b[0;34m.\u001b[0m\u001b[0m__name__\u001b[0m\u001b[0;34m\u001b[0m\u001b[0m\n\u001b[1;32m    320\u001b[0m         \u001b[0mvisitor\u001b[0m \u001b[0;34m=\u001b[0m \u001b[0mgetattr\u001b[0m\u001b[0;34m(\u001b[0m\u001b[0mself\u001b[0m\u001b[0;34m,\u001b[0m \u001b[0mmethod\u001b[0m\u001b[0;34m)\u001b[0m\u001b[0;34m\u001b[0m\u001b[0m\n\u001b[0;32m--> 321\u001b[0;31m         \u001b[0;32mreturn\u001b[0m \u001b[0mvisitor\u001b[0m\u001b[0;34m(\u001b[0m\u001b[0mnode\u001b[0m\u001b[0;34m,\u001b[0m \u001b[0;34m**\u001b[0m\u001b[0mkwargs\u001b[0m\u001b[0;34m)\u001b[0m\u001b[0;34m\u001b[0m\u001b[0m\n\u001b[0m\u001b[1;32m    322\u001b[0m \u001b[0;34m\u001b[0m\u001b[0m\n\u001b[1;32m    323\u001b[0m     \u001b[0;32mdef\u001b[0m \u001b[0mvisit_Module\u001b[0m\u001b[0;34m(\u001b[0m\u001b[0mself\u001b[0m\u001b[0;34m,\u001b[0m \u001b[0mnode\u001b[0m\u001b[0;34m,\u001b[0m \u001b[0;34m**\u001b[0m\u001b[0mkwargs\u001b[0m\u001b[0;34m)\u001b[0m\u001b[0;34m:\u001b[0m\u001b[0;34m\u001b[0m\u001b[0m\n",
      "\u001b[0;32m/anaconda3/lib/python3.6/site-packages/pandas/core/computation/expr.py\u001b[0m in \u001b[0;36mvisit_BinOp\u001b[0;34m(self, node, **kwargs)\u001b[0m\n\u001b[1;32m    423\u001b[0m \u001b[0;34m\u001b[0m\u001b[0m\n\u001b[1;32m    424\u001b[0m     \u001b[0;32mdef\u001b[0m \u001b[0mvisit_BinOp\u001b[0m\u001b[0;34m(\u001b[0m\u001b[0mself\u001b[0m\u001b[0;34m,\u001b[0m \u001b[0mnode\u001b[0m\u001b[0;34m,\u001b[0m \u001b[0;34m**\u001b[0m\u001b[0mkwargs\u001b[0m\u001b[0;34m)\u001b[0m\u001b[0;34m:\u001b[0m\u001b[0;34m\u001b[0m\u001b[0m\n\u001b[0;32m--> 425\u001b[0;31m         \u001b[0mop\u001b[0m\u001b[0;34m,\u001b[0m \u001b[0mop_class\u001b[0m\u001b[0;34m,\u001b[0m \u001b[0mleft\u001b[0m\u001b[0;34m,\u001b[0m \u001b[0mright\u001b[0m \u001b[0;34m=\u001b[0m \u001b[0mself\u001b[0m\u001b[0;34m.\u001b[0m\u001b[0m_maybe_transform_eq_ne\u001b[0m\u001b[0;34m(\u001b[0m\u001b[0mnode\u001b[0m\u001b[0;34m)\u001b[0m\u001b[0;34m\u001b[0m\u001b[0m\n\u001b[0m\u001b[1;32m    426\u001b[0m         \u001b[0mleft\u001b[0m\u001b[0;34m,\u001b[0m \u001b[0mright\u001b[0m \u001b[0;34m=\u001b[0m \u001b[0mself\u001b[0m\u001b[0;34m.\u001b[0m\u001b[0m_maybe_downcast_constants\u001b[0m\u001b[0;34m(\u001b[0m\u001b[0mleft\u001b[0m\u001b[0;34m,\u001b[0m \u001b[0mright\u001b[0m\u001b[0;34m)\u001b[0m\u001b[0;34m\u001b[0m\u001b[0m\n\u001b[1;32m    427\u001b[0m         \u001b[0;32mreturn\u001b[0m \u001b[0mself\u001b[0m\u001b[0;34m.\u001b[0m\u001b[0m_maybe_evaluate_binop\u001b[0m\u001b[0;34m(\u001b[0m\u001b[0mop\u001b[0m\u001b[0;34m,\u001b[0m \u001b[0mop_class\u001b[0m\u001b[0;34m,\u001b[0m \u001b[0mleft\u001b[0m\u001b[0;34m,\u001b[0m \u001b[0mright\u001b[0m\u001b[0;34m)\u001b[0m\u001b[0;34m\u001b[0m\u001b[0m\n",
      "\u001b[0;32m/anaconda3/lib/python3.6/site-packages/pandas/core/computation/expr.py\u001b[0m in \u001b[0;36m_maybe_transform_eq_ne\u001b[0;34m(self, node, left, right)\u001b[0m\n\u001b[1;32m    360\u001b[0m     \u001b[0;32mdef\u001b[0m \u001b[0m_maybe_transform_eq_ne\u001b[0m\u001b[0;34m(\u001b[0m\u001b[0mself\u001b[0m\u001b[0;34m,\u001b[0m \u001b[0mnode\u001b[0m\u001b[0;34m,\u001b[0m \u001b[0mleft\u001b[0m\u001b[0;34m=\u001b[0m\u001b[0;32mNone\u001b[0m\u001b[0;34m,\u001b[0m \u001b[0mright\u001b[0m\u001b[0;34m=\u001b[0m\u001b[0;32mNone\u001b[0m\u001b[0;34m)\u001b[0m\u001b[0;34m:\u001b[0m\u001b[0;34m\u001b[0m\u001b[0m\n\u001b[1;32m    361\u001b[0m         \u001b[0;32mif\u001b[0m \u001b[0mleft\u001b[0m \u001b[0;32mis\u001b[0m \u001b[0;32mNone\u001b[0m\u001b[0;34m:\u001b[0m\u001b[0;34m\u001b[0m\u001b[0m\n\u001b[0;32m--> 362\u001b[0;31m             \u001b[0mleft\u001b[0m \u001b[0;34m=\u001b[0m \u001b[0mself\u001b[0m\u001b[0;34m.\u001b[0m\u001b[0mvisit\u001b[0m\u001b[0;34m(\u001b[0m\u001b[0mnode\u001b[0m\u001b[0;34m.\u001b[0m\u001b[0mleft\u001b[0m\u001b[0;34m,\u001b[0m \u001b[0mside\u001b[0m\u001b[0;34m=\u001b[0m\u001b[0;34m'left'\u001b[0m\u001b[0;34m)\u001b[0m\u001b[0;34m\u001b[0m\u001b[0m\n\u001b[0m\u001b[1;32m    363\u001b[0m         \u001b[0;32mif\u001b[0m \u001b[0mright\u001b[0m \u001b[0;32mis\u001b[0m \u001b[0;32mNone\u001b[0m\u001b[0;34m:\u001b[0m\u001b[0;34m\u001b[0m\u001b[0m\n\u001b[1;32m    364\u001b[0m             \u001b[0mright\u001b[0m \u001b[0;34m=\u001b[0m \u001b[0mself\u001b[0m\u001b[0;34m.\u001b[0m\u001b[0mvisit\u001b[0m\u001b[0;34m(\u001b[0m\u001b[0mnode\u001b[0m\u001b[0;34m.\u001b[0m\u001b[0mright\u001b[0m\u001b[0;34m,\u001b[0m \u001b[0mside\u001b[0m\u001b[0;34m=\u001b[0m\u001b[0;34m'right'\u001b[0m\u001b[0;34m)\u001b[0m\u001b[0;34m\u001b[0m\u001b[0m\n",
      "\u001b[0;32m/anaconda3/lib/python3.6/site-packages/pandas/core/computation/expr.py\u001b[0m in \u001b[0;36mvisit\u001b[0;34m(self, node, **kwargs)\u001b[0m\n\u001b[1;32m    319\u001b[0m         \u001b[0mmethod\u001b[0m \u001b[0;34m=\u001b[0m \u001b[0;34m'visit_'\u001b[0m \u001b[0;34m+\u001b[0m \u001b[0mnode\u001b[0m\u001b[0;34m.\u001b[0m\u001b[0m__class__\u001b[0m\u001b[0;34m.\u001b[0m\u001b[0m__name__\u001b[0m\u001b[0;34m\u001b[0m\u001b[0m\n\u001b[1;32m    320\u001b[0m         \u001b[0mvisitor\u001b[0m \u001b[0;34m=\u001b[0m \u001b[0mgetattr\u001b[0m\u001b[0;34m(\u001b[0m\u001b[0mself\u001b[0m\u001b[0;34m,\u001b[0m \u001b[0mmethod\u001b[0m\u001b[0;34m)\u001b[0m\u001b[0;34m\u001b[0m\u001b[0m\n\u001b[0;32m--> 321\u001b[0;31m         \u001b[0;32mreturn\u001b[0m \u001b[0mvisitor\u001b[0m\u001b[0;34m(\u001b[0m\u001b[0mnode\u001b[0m\u001b[0;34m,\u001b[0m \u001b[0;34m**\u001b[0m\u001b[0mkwargs\u001b[0m\u001b[0;34m)\u001b[0m\u001b[0;34m\u001b[0m\u001b[0m\n\u001b[0m\u001b[1;32m    322\u001b[0m \u001b[0;34m\u001b[0m\u001b[0m\n\u001b[1;32m    323\u001b[0m     \u001b[0;32mdef\u001b[0m \u001b[0mvisit_Module\u001b[0m\u001b[0;34m(\u001b[0m\u001b[0mself\u001b[0m\u001b[0;34m,\u001b[0m \u001b[0mnode\u001b[0m\u001b[0;34m,\u001b[0m \u001b[0;34m**\u001b[0m\u001b[0mkwargs\u001b[0m\u001b[0;34m)\u001b[0m\u001b[0;34m:\u001b[0m\u001b[0;34m\u001b[0m\u001b[0m\n",
      "\u001b[0;32m/anaconda3/lib/python3.6/site-packages/pandas/core/computation/expr.py\u001b[0m in \u001b[0;36mvisit_Name\u001b[0;34m(self, node, **kwargs)\u001b[0m\n\u001b[1;32m    437\u001b[0m \u001b[0;34m\u001b[0m\u001b[0m\n\u001b[1;32m    438\u001b[0m     \u001b[0;32mdef\u001b[0m \u001b[0mvisit_Name\u001b[0m\u001b[0;34m(\u001b[0m\u001b[0mself\u001b[0m\u001b[0;34m,\u001b[0m \u001b[0mnode\u001b[0m\u001b[0;34m,\u001b[0m \u001b[0;34m**\u001b[0m\u001b[0mkwargs\u001b[0m\u001b[0;34m)\u001b[0m\u001b[0;34m:\u001b[0m\u001b[0;34m\u001b[0m\u001b[0m\n\u001b[0;32m--> 439\u001b[0;31m         \u001b[0;32mreturn\u001b[0m \u001b[0mself\u001b[0m\u001b[0;34m.\u001b[0m\u001b[0mterm_type\u001b[0m\u001b[0;34m(\u001b[0m\u001b[0mnode\u001b[0m\u001b[0;34m.\u001b[0m\u001b[0mid\u001b[0m\u001b[0;34m,\u001b[0m \u001b[0mself\u001b[0m\u001b[0;34m.\u001b[0m\u001b[0menv\u001b[0m\u001b[0;34m,\u001b[0m \u001b[0;34m**\u001b[0m\u001b[0mkwargs\u001b[0m\u001b[0;34m)\u001b[0m\u001b[0;34m\u001b[0m\u001b[0m\n\u001b[0m\u001b[1;32m    440\u001b[0m \u001b[0;34m\u001b[0m\u001b[0m\n\u001b[1;32m    441\u001b[0m     \u001b[0;32mdef\u001b[0m \u001b[0mvisit_NameConstant\u001b[0m\u001b[0;34m(\u001b[0m\u001b[0mself\u001b[0m\u001b[0;34m,\u001b[0m \u001b[0mnode\u001b[0m\u001b[0;34m,\u001b[0m \u001b[0;34m**\u001b[0m\u001b[0mkwargs\u001b[0m\u001b[0;34m)\u001b[0m\u001b[0;34m:\u001b[0m\u001b[0;34m\u001b[0m\u001b[0m\n",
      "\u001b[0;32m/anaconda3/lib/python3.6/site-packages/pandas/core/computation/ops.py\u001b[0m in \u001b[0;36m__init__\u001b[0;34m(self, name, env, side, encoding)\u001b[0m\n\u001b[1;32m     56\u001b[0m         self.is_local = (tname.startswith(_LOCAL_TAG) or\n\u001b[1;32m     57\u001b[0m                          tname in _DEFAULT_GLOBALS)\n\u001b[0;32m---> 58\u001b[0;31m         \u001b[0mself\u001b[0m\u001b[0;34m.\u001b[0m\u001b[0m_value\u001b[0m \u001b[0;34m=\u001b[0m \u001b[0mself\u001b[0m\u001b[0;34m.\u001b[0m\u001b[0m_resolve_name\u001b[0m\u001b[0;34m(\u001b[0m\u001b[0;34m)\u001b[0m\u001b[0;34m\u001b[0m\u001b[0m\n\u001b[0m\u001b[1;32m     59\u001b[0m         \u001b[0mself\u001b[0m\u001b[0;34m.\u001b[0m\u001b[0mencoding\u001b[0m \u001b[0;34m=\u001b[0m \u001b[0mencoding\u001b[0m\u001b[0;34m\u001b[0m\u001b[0m\n\u001b[1;32m     60\u001b[0m \u001b[0;34m\u001b[0m\u001b[0m\n",
      "\u001b[0;32m/anaconda3/lib/python3.6/site-packages/pandas/core/computation/ops.py\u001b[0m in \u001b[0;36m_resolve_name\u001b[0;34m(self)\u001b[0m\n\u001b[1;32m     73\u001b[0m \u001b[0;34m\u001b[0m\u001b[0m\n\u001b[1;32m     74\u001b[0m     \u001b[0;32mdef\u001b[0m \u001b[0m_resolve_name\u001b[0m\u001b[0;34m(\u001b[0m\u001b[0mself\u001b[0m\u001b[0;34m)\u001b[0m\u001b[0;34m:\u001b[0m\u001b[0;34m\u001b[0m\u001b[0m\n\u001b[0;32m---> 75\u001b[0;31m         \u001b[0mres\u001b[0m \u001b[0;34m=\u001b[0m \u001b[0mself\u001b[0m\u001b[0;34m.\u001b[0m\u001b[0menv\u001b[0m\u001b[0;34m.\u001b[0m\u001b[0mresolve\u001b[0m\u001b[0;34m(\u001b[0m\u001b[0mself\u001b[0m\u001b[0;34m.\u001b[0m\u001b[0mlocal_name\u001b[0m\u001b[0;34m,\u001b[0m \u001b[0mis_local\u001b[0m\u001b[0;34m=\u001b[0m\u001b[0mself\u001b[0m\u001b[0;34m.\u001b[0m\u001b[0mis_local\u001b[0m\u001b[0;34m)\u001b[0m\u001b[0;34m\u001b[0m\u001b[0m\n\u001b[0m\u001b[1;32m     76\u001b[0m         \u001b[0mself\u001b[0m\u001b[0;34m.\u001b[0m\u001b[0mupdate\u001b[0m\u001b[0;34m(\u001b[0m\u001b[0mres\u001b[0m\u001b[0;34m)\u001b[0m\u001b[0;34m\u001b[0m\u001b[0m\n\u001b[1;32m     77\u001b[0m \u001b[0;34m\u001b[0m\u001b[0m\n",
      "\u001b[0;32m/anaconda3/lib/python3.6/site-packages/pandas/core/computation/scope.py\u001b[0m in \u001b[0;36mresolve\u001b[0;34m(self, key, is_local)\u001b[0m\n\u001b[1;32m    192\u001b[0m                 \u001b[0;32mreturn\u001b[0m \u001b[0mself\u001b[0m\u001b[0;34m.\u001b[0m\u001b[0mtemps\u001b[0m\u001b[0;34m[\u001b[0m\u001b[0mkey\u001b[0m\u001b[0;34m]\u001b[0m\u001b[0;34m\u001b[0m\u001b[0m\n\u001b[1;32m    193\u001b[0m             \u001b[0;32mexcept\u001b[0m \u001b[0mKeyError\u001b[0m\u001b[0;34m:\u001b[0m\u001b[0;34m\u001b[0m\u001b[0m\n\u001b[0;32m--> 194\u001b[0;31m                 \u001b[0;32mraise\u001b[0m \u001b[0mcompu\u001b[0m\u001b[0;34m.\u001b[0m\u001b[0mops\u001b[0m\u001b[0;34m.\u001b[0m\u001b[0mUndefinedVariableError\u001b[0m\u001b[0;34m(\u001b[0m\u001b[0mkey\u001b[0m\u001b[0;34m,\u001b[0m \u001b[0mis_local\u001b[0m\u001b[0;34m)\u001b[0m\u001b[0;34m\u001b[0m\u001b[0m\n\u001b[0m\u001b[1;32m    195\u001b[0m \u001b[0;34m\u001b[0m\u001b[0m\n\u001b[1;32m    196\u001b[0m     \u001b[0;32mdef\u001b[0m \u001b[0mswapkey\u001b[0m\u001b[0;34m(\u001b[0m\u001b[0mself\u001b[0m\u001b[0;34m,\u001b[0m \u001b[0mold_key\u001b[0m\u001b[0;34m,\u001b[0m \u001b[0mnew_key\u001b[0m\u001b[0;34m,\u001b[0m \u001b[0mnew_value\u001b[0m\u001b[0;34m=\u001b[0m\u001b[0;32mNone\u001b[0m\u001b[0;34m)\u001b[0m\u001b[0;34m:\u001b[0m\u001b[0;34m\u001b[0m\u001b[0m\n",
      "\u001b[0;31mUndefinedVariableError\u001b[0m: name 'artist' is not defined"
     ]
    }
   ],
   "source": [
    "a_df = pd.DataFrame(artist)\n",
    "a_df = a_df.query(\"artist == 'Troy Sivan'\")\n",
    "a_df\n"
   ]
  },
  {
   "cell_type": "code",
   "execution_count": 571,
   "metadata": {},
   "outputs": [
    {
     "data": {
      "text/html": [
       "<div>\n",
       "<style scoped>\n",
       "    .dataframe tbody tr th:only-of-type {\n",
       "        vertical-align: middle;\n",
       "    }\n",
       "\n",
       "    .dataframe tbody tr th {\n",
       "        vertical-align: top;\n",
       "    }\n",
       "\n",
       "    .dataframe thead th {\n",
       "        text-align: right;\n",
       "    }\n",
       "</style>\n",
       "<table border=\"1\" class=\"dataframe\">\n",
       "  <thead>\n",
       "    <tr style=\"text-align: right;\">\n",
       "      <th></th>\n",
       "      <th>acousticness</th>\n",
       "      <th>album</th>\n",
       "      <th>album_id</th>\n",
       "      <th>album_release</th>\n",
       "      <th>artist</th>\n",
       "      <th>danceability</th>\n",
       "      <th>energy</th>\n",
       "      <th>feature</th>\n",
       "      <th>key</th>\n",
       "      <th>loudness</th>\n",
       "      <th>tempo</th>\n",
       "      <th>track_id</th>\n",
       "      <th>track_name</th>\n",
       "      <th>valence</th>\n",
       "    </tr>\n",
       "  </thead>\n",
       "  <tbody>\n",
       "    <tr>\n",
       "      <th>6</th>\n",
       "      <td>0.0135</td>\n",
       "      <td>Parade - Music From The Motion Picture Under T...</td>\n",
       "      <td>54DjkEN3wdCQgfCTZ9WjdB</td>\n",
       "      <td>1986-03-31</td>\n",
       "      <td>Prince</td>\n",
       "      <td>0.898</td>\n",
       "      <td>0.271</td>\n",
       "      <td>No Feature</td>\n",
       "      <td>7</td>\n",
       "      <td>-12.238</td>\n",
       "      <td>111.485</td>\n",
       "      <td>62LJFaYihsdVrrkgUOJC05</td>\n",
       "      <td>Kiss</td>\n",
       "      <td>0.742</td>\n",
       "    </tr>\n",
       "    <tr>\n",
       "      <th>7</th>\n",
       "      <td>0.0353</td>\n",
       "      <td>Purple Rain</td>\n",
       "      <td>7nXJ5k4XgRj5OLg9m8V3zc</td>\n",
       "      <td>1984-06-25</td>\n",
       "      <td>Prince</td>\n",
       "      <td>0.367</td>\n",
       "      <td>0.452</td>\n",
       "      <td>No Feature</td>\n",
       "      <td>10</td>\n",
       "      <td>-10.422</td>\n",
       "      <td>113.066</td>\n",
       "      <td>54X78diSLoUDI3joC2bjMz</td>\n",
       "      <td>Purple Rain</td>\n",
       "      <td>0.189</td>\n",
       "    </tr>\n",
       "    <tr>\n",
       "      <th>8</th>\n",
       "      <td>0.0315</td>\n",
       "      <td>Prince</td>\n",
       "      <td>6k7RVZ7bSL9ryReb8RLYRI</td>\n",
       "      <td>1979-10-19</td>\n",
       "      <td>Prince</td>\n",
       "      <td>0.805</td>\n",
       "      <td>0.387</td>\n",
       "      <td>No Feature</td>\n",
       "      <td>8</td>\n",
       "      <td>-13.233</td>\n",
       "      <td>114.867</td>\n",
       "      <td>4yrM5BVyJzy5Ed4GPO6e8j</td>\n",
       "      <td>I Wanna Be Your Lover</td>\n",
       "      <td>0.701</td>\n",
       "    </tr>\n",
       "    <tr>\n",
       "      <th>10</th>\n",
       "      <td>0.0102</td>\n",
       "      <td>Purple Rain</td>\n",
       "      <td>7nXJ5k4XgRj5OLg9m8V3zc</td>\n",
       "      <td>1984-06-25</td>\n",
       "      <td>Prince</td>\n",
       "      <td>0.729</td>\n",
       "      <td>0.989</td>\n",
       "      <td>No Feature</td>\n",
       "      <td>9</td>\n",
       "      <td>-4.613</td>\n",
       "      <td>126.470</td>\n",
       "      <td>51H2y6YrNNXcy3dfc3qSbA</td>\n",
       "      <td>When Doves Cry</td>\n",
       "      <td>0.840</td>\n",
       "    </tr>\n",
       "    <tr>\n",
       "      <th>14</th>\n",
       "      <td>0.2100</td>\n",
       "      <td>Around The World In A Day</td>\n",
       "      <td>5FbrTPPlaNSOsChhKUZxcu</td>\n",
       "      <td>1985-04-22</td>\n",
       "      <td>Prince</td>\n",
       "      <td>0.761</td>\n",
       "      <td>0.670</td>\n",
       "      <td>No Feature</td>\n",
       "      <td>2</td>\n",
       "      <td>-12.759</td>\n",
       "      <td>120.752</td>\n",
       "      <td>5jSz894ljfWE0IcHBSM39i</td>\n",
       "      <td>Raspberry Beret</td>\n",
       "      <td>0.910</td>\n",
       "    </tr>\n",
       "  </tbody>\n",
       "</table>\n",
       "</div>"
      ],
      "text/plain": [
       "    acousticness                                              album  \\\n",
       "6         0.0135  Parade - Music From The Motion Picture Under T...   \n",
       "7         0.0353                                        Purple Rain   \n",
       "8         0.0315                                             Prince   \n",
       "10        0.0102                                        Purple Rain   \n",
       "14        0.2100                          Around The World In A Day   \n",
       "\n",
       "                  album_id album_release  artist  danceability  energy  \\\n",
       "6   54DjkEN3wdCQgfCTZ9WjdB    1986-03-31  Prince         0.898   0.271   \n",
       "7   7nXJ5k4XgRj5OLg9m8V3zc    1984-06-25  Prince         0.367   0.452   \n",
       "8   6k7RVZ7bSL9ryReb8RLYRI    1979-10-19  Prince         0.805   0.387   \n",
       "10  7nXJ5k4XgRj5OLg9m8V3zc    1984-06-25  Prince         0.729   0.989   \n",
       "14  5FbrTPPlaNSOsChhKUZxcu    1985-04-22  Prince         0.761   0.670   \n",
       "\n",
       "       feature  key  loudness    tempo                track_id  \\\n",
       "6   No Feature    7   -12.238  111.485  62LJFaYihsdVrrkgUOJC05   \n",
       "7   No Feature   10   -10.422  113.066  54X78diSLoUDI3joC2bjMz   \n",
       "8   No Feature    8   -13.233  114.867  4yrM5BVyJzy5Ed4GPO6e8j   \n",
       "10  No Feature    9    -4.613  126.470  51H2y6YrNNXcy3dfc3qSbA   \n",
       "14  No Feature    2   -12.759  120.752  5jSz894ljfWE0IcHBSM39i   \n",
       "\n",
       "               track_name  valence  \n",
       "6                    Kiss    0.742  \n",
       "7             Purple Rain    0.189  \n",
       "8   I Wanna Be Your Lover    0.701  \n",
       "10         When Doves Cry    0.840  \n",
       "14        Raspberry Beret    0.910  "
      ]
     },
     "metadata": {},
     "output_type": "display_data"
    }
   ],
   "source": [
    "display(a_df.head())\n",
    "# display(lt_df.head())\n",
    "# display(st_df.head())\n",
    "# display(mt_df.head())"
   ]
  },
  {
   "cell_type": "code",
   "execution_count": 572,
   "metadata": {},
   "outputs": [
    {
     "data": {
      "text/plain": [
       "124"
      ]
     },
     "execution_count": 572,
     "metadata": {},
     "output_type": "execute_result"
    }
   ],
   "source": [
    "frames = [lt_df, st_df, mt_df]\n",
    "\n",
    "all_songs = pd.concat(frames)\n",
    "test_songs = all_songs.filter(['acousticness','danceability', 'key','energy','loudness','tempo','valence'])\n",
    "labels = all_songs.filter(['rank percentile'])\n",
    "test_songs['loudness'] = abs(test_songs['loudness'])\n",
    "a_df_pred = a_df.filter(['acousticness','danceability', 'key','energy','loudness','tempo','valence','track_id'])\n",
    "a_df_pred['loudness'] = abs(a_df_pred['loudness'])\n",
    "a_df_pred = a_df_pred.dropna()\n",
    "a_df = a_df.dropna()\n",
    "a_df_pred_use = a_df_pred.filter(['acousticness','danceability', 'key','energy','loudness','tempo','valence'])\n",
    "len(a_df_pred_use)"
   ]
  },
  {
   "cell_type": "code",
   "execution_count": 573,
   "metadata": {},
   "outputs": [],
   "source": [
    "split_tracks = train_test_split(test_songs, labels)\n",
    "X_train, X_test, y_train, y_test = split_tracks[0], split_tracks[1], split_tracks[2], split_tracks[3]"
   ]
  },
  {
   "cell_type": "code",
   "execution_count": 574,
   "metadata": {},
   "outputs": [
    {
     "name": "stdout",
     "output_type": "stream",
     "text": [
      "Testing Accuracy for Reccomendation: 8.108%\n"
     ]
    },
    {
     "name": "stderr",
     "output_type": "stream",
     "text": [
      "/anaconda3/lib/python3.6/site-packages/sklearn/utils/validation.py:578: DataConversionWarning: A column-vector y was passed when a 1d array was expected. Please change the shape of y to (n_samples, ), for example using ravel().\n",
      "  y = column_or_1d(y, warn=True)\n"
     ]
    }
   ],
   "source": [
    "mnb_clf = MultinomialNB()\n",
    "mnb_clf.fit(X_train, y_train)\n",
    "mnb_preds = mnb_clf.predict(X_test)\n",
    "mnb_testing_accuracy = accuracy_score(y_test, mnb_preds)\n",
    "\n",
    "print(\"Testing Accuracy for Reccomendation: {:.4}%\".format(mnb_testing_accuracy * 100))"
   ]
  },
  {
   "cell_type": "code",
   "execution_count": 575,
   "metadata": {},
   "outputs": [],
   "source": [
    "recs = mnb_clf.predict(a_df_pred_use)\n",
    "rec_df = pd.DataFrame(recs, columns = ['value'])\n",
    "list_recs =rec_df.loc[rec_df['value'] == 0]\n",
    "array = list_recs.index.tolist()\n",
    "array_2 = []\n",
    "for i in array:\n",
    "     array_2.append(i - 1)"
   ]
  },
  {
   "cell_type": "code",
   "execution_count": 576,
   "metadata": {},
   "outputs": [
    {
     "data": {
      "text/plain": [
       "124"
      ]
     },
     "execution_count": 576,
     "metadata": {},
     "output_type": "execute_result"
    }
   ],
   "source": [
    "len(recs)"
   ]
  },
  {
   "cell_type": "code",
   "execution_count": 577,
   "metadata": {},
   "outputs": [
    {
     "data": {
      "text/plain": [
       "[2, 8, 9, 14, 23, 31, 46, 50, 72, 88, 91, 94, 95, 109]"
      ]
     },
     "execution_count": 577,
     "metadata": {},
     "output_type": "execute_result"
    }
   ],
   "source": [
    "array_2"
   ]
  },
  {
   "cell_type": "code",
   "execution_count": 578,
   "metadata": {},
   "outputs": [],
   "source": [
    "a_df['match'] = range(1, len(a_df) + 1)"
   ]
  },
  {
   "cell_type": "code",
   "execution_count": null,
   "metadata": {},
   "outputs": [],
   "source": []
  },
  {
   "cell_type": "code",
   "execution_count": 579,
   "metadata": {},
   "outputs": [],
   "source": [
    "rec_df = a_df[a_df['match'].isin(array_2)]\n"
   ]
  },
  {
   "cell_type": "code",
   "execution_count": 580,
   "metadata": {},
   "outputs": [
    {
     "data": {
      "text/html": [
       "<div>\n",
       "<style scoped>\n",
       "    .dataframe tbody tr th:only-of-type {\n",
       "        vertical-align: middle;\n",
       "    }\n",
       "\n",
       "    .dataframe tbody tr th {\n",
       "        vertical-align: top;\n",
       "    }\n",
       "\n",
       "    .dataframe thead th {\n",
       "        text-align: right;\n",
       "    }\n",
       "</style>\n",
       "<table border=\"1\" class=\"dataframe\">\n",
       "  <thead>\n",
       "    <tr style=\"text-align: right;\">\n",
       "      <th></th>\n",
       "      <th>acousticness</th>\n",
       "      <th>album</th>\n",
       "      <th>album_id</th>\n",
       "      <th>album_release</th>\n",
       "      <th>artist</th>\n",
       "      <th>danceability</th>\n",
       "      <th>energy</th>\n",
       "      <th>feature</th>\n",
       "      <th>key</th>\n",
       "      <th>loudness</th>\n",
       "      <th>tempo</th>\n",
       "      <th>track_id</th>\n",
       "      <th>track_name</th>\n",
       "      <th>valence</th>\n",
       "      <th>match</th>\n",
       "    </tr>\n",
       "  </thead>\n",
       "  <tbody>\n",
       "    <tr>\n",
       "      <th>7</th>\n",
       "      <td>0.035300</td>\n",
       "      <td>Purple Rain</td>\n",
       "      <td>7nXJ5k4XgRj5OLg9m8V3zc</td>\n",
       "      <td>1984-06-25</td>\n",
       "      <td>Prince</td>\n",
       "      <td>0.367</td>\n",
       "      <td>0.452</td>\n",
       "      <td>No Feature</td>\n",
       "      <td>10</td>\n",
       "      <td>-10.422</td>\n",
       "      <td>113.066</td>\n",
       "      <td>54X78diSLoUDI3joC2bjMz</td>\n",
       "      <td>Purple Rain</td>\n",
       "      <td>0.189</td>\n",
       "      <td>2</td>\n",
       "    </tr>\n",
       "    <tr>\n",
       "      <th>31</th>\n",
       "      <td>0.086200</td>\n",
       "      <td>Purple Rain</td>\n",
       "      <td>7nXJ5k4XgRj5OLg9m8V3zc</td>\n",
       "      <td>1984-06-25</td>\n",
       "      <td>Prince</td>\n",
       "      <td>0.731</td>\n",
       "      <td>0.750</td>\n",
       "      <td>No Feature</td>\n",
       "      <td>2</td>\n",
       "      <td>-10.457</td>\n",
       "      <td>135.406</td>\n",
       "      <td>6fBwVe6udYdnRqwqo06if8</td>\n",
       "      <td>I Would Die 4 U</td>\n",
       "      <td>0.639</td>\n",
       "      <td>8</td>\n",
       "    </tr>\n",
       "    <tr>\n",
       "      <th>34</th>\n",
       "      <td>0.235000</td>\n",
       "      <td>4Ever</td>\n",
       "      <td>7mhrGQKxLFJPY2J4TXtA0A</td>\n",
       "      <td>2016-11-22</td>\n",
       "      <td>Prince</td>\n",
       "      <td>0.777</td>\n",
       "      <td>0.700</td>\n",
       "      <td>No Feature</td>\n",
       "      <td>1</td>\n",
       "      <td>-11.045</td>\n",
       "      <td>122.940</td>\n",
       "      <td>6X4JeTWCuKEzKOEHXDtyBo</td>\n",
       "      <td>Little Red Corvette</td>\n",
       "      <td>0.802</td>\n",
       "      <td>9</td>\n",
       "    </tr>\n",
       "    <tr>\n",
       "      <th>66</th>\n",
       "      <td>0.409000</td>\n",
       "      <td>Prince</td>\n",
       "      <td>6k7RVZ7bSL9ryReb8RLYRI</td>\n",
       "      <td>1979-10-19</td>\n",
       "      <td>Prince</td>\n",
       "      <td>0.705</td>\n",
       "      <td>0.342</td>\n",
       "      <td>No Feature</td>\n",
       "      <td>11</td>\n",
       "      <td>-13.209</td>\n",
       "      <td>79.904</td>\n",
       "      <td>3QwN6nANXiVnexlOMXQNp7</td>\n",
       "      <td>It's Gonna Be Lonely</td>\n",
       "      <td>0.274</td>\n",
       "      <td>14</td>\n",
       "    </tr>\n",
       "    <tr>\n",
       "      <th>95</th>\n",
       "      <td>0.053200</td>\n",
       "      <td>Diamonds And Pearls</td>\n",
       "      <td>0qcgEPOg67XnxGizdAAcGa</td>\n",
       "      <td>1991-10-01</td>\n",
       "      <td>Prince</td>\n",
       "      <td>0.549</td>\n",
       "      <td>0.547</td>\n",
       "      <td>No Feature</td>\n",
       "      <td>7</td>\n",
       "      <td>-10.119</td>\n",
       "      <td>81.050</td>\n",
       "      <td>7IoLw1bECmOSWcm2u9SmRH</td>\n",
       "      <td>Diamonds And Pearls</td>\n",
       "      <td>0.288</td>\n",
       "      <td>23</td>\n",
       "    </tr>\n",
       "    <tr>\n",
       "      <th>123</th>\n",
       "      <td>0.293000</td>\n",
       "      <td>Batman</td>\n",
       "      <td>2FwzHgJ4XaPhC19Y0uL6SK</td>\n",
       "      <td>1989-06-20</td>\n",
       "      <td>Prince</td>\n",
       "      <td>0.761</td>\n",
       "      <td>0.404</td>\n",
       "      <td>No Feature</td>\n",
       "      <td>1</td>\n",
       "      <td>-11.977</td>\n",
       "      <td>124.524</td>\n",
       "      <td>2dnPoLlcwJFtFm1pps3Bm0</td>\n",
       "      <td>Scandalous</td>\n",
       "      <td>0.509</td>\n",
       "      <td>31</td>\n",
       "    </tr>\n",
       "    <tr>\n",
       "      <th>162</th>\n",
       "      <td>0.228000</td>\n",
       "      <td>For You</td>\n",
       "      <td>5kbRcoeBHpJHe37a9agmfv</td>\n",
       "      <td>1978-04-07</td>\n",
       "      <td>Prince</td>\n",
       "      <td>0.904</td>\n",
       "      <td>0.463</td>\n",
       "      <td>No Feature</td>\n",
       "      <td>6</td>\n",
       "      <td>-11.552</td>\n",
       "      <td>115.362</td>\n",
       "      <td>6Q8s3YuAWkx0Qui0Jgkr5m</td>\n",
       "      <td>Soft and Wet</td>\n",
       "      <td>0.926</td>\n",
       "      <td>46</td>\n",
       "    </tr>\n",
       "    <tr>\n",
       "      <th>178</th>\n",
       "      <td>0.000406</td>\n",
       "      <td>Dirty Mind</td>\n",
       "      <td>3Cijd5OjHeWBm97DsPHpgs</td>\n",
       "      <td>1980-10-08</td>\n",
       "      <td>Prince</td>\n",
       "      <td>0.849</td>\n",
       "      <td>0.385</td>\n",
       "      <td>No Feature</td>\n",
       "      <td>0</td>\n",
       "      <td>-14.398</td>\n",
       "      <td>125.408</td>\n",
       "      <td>3IiS3fVdtsMPSHsWBgDcFn</td>\n",
       "      <td>Uptown</td>\n",
       "      <td>0.886</td>\n",
       "      <td>50</td>\n",
       "    </tr>\n",
       "    <tr>\n",
       "      <th>258</th>\n",
       "      <td>0.017800</td>\n",
       "      <td>The Very Best Of Prince</td>\n",
       "      <td>5oQClEU6YXiVoaz4ZTmOOO</td>\n",
       "      <td>2001-07-30</td>\n",
       "      <td>Prince</td>\n",
       "      <td>0.875</td>\n",
       "      <td>0.882</td>\n",
       "      <td>No Feature</td>\n",
       "      <td>9</td>\n",
       "      <td>-11.219</td>\n",
       "      <td>126.574</td>\n",
       "      <td>7ffE3UYWppPyCRTfIrA3nf</td>\n",
       "      <td>When Doves Cry</td>\n",
       "      <td>0.874</td>\n",
       "      <td>72</td>\n",
       "    </tr>\n",
       "    <tr>\n",
       "      <th>325</th>\n",
       "      <td>0.169000</td>\n",
       "      <td>The Hits/The B-Sides</td>\n",
       "      <td>3o0o5WPnqfGOeyx3UMJgvO</td>\n",
       "      <td>1993-09-13</td>\n",
       "      <td>Prince</td>\n",
       "      <td>0.770</td>\n",
       "      <td>0.744</td>\n",
       "      <td>No Feature</td>\n",
       "      <td>2</td>\n",
       "      <td>-8.133</td>\n",
       "      <td>106.150</td>\n",
       "      <td>4Syn1a4Irz0UbbR44s7CqB</td>\n",
       "      <td>Sexy M.F.</td>\n",
       "      <td>0.548</td>\n",
       "      <td>88</td>\n",
       "    </tr>\n",
       "    <tr>\n",
       "      <th>333</th>\n",
       "      <td>0.095000</td>\n",
       "      <td>1999</td>\n",
       "      <td>3U1ht9EdWEI9nMvaqdQI67</td>\n",
       "      <td>1982-10-27</td>\n",
       "      <td>Prince</td>\n",
       "      <td>0.614</td>\n",
       "      <td>0.415</td>\n",
       "      <td>No Feature</td>\n",
       "      <td>3</td>\n",
       "      <td>-18.296</td>\n",
       "      <td>169.002</td>\n",
       "      <td>2hABMU63xtaIYChN6eYlEb</td>\n",
       "      <td>Something In The Water (Does Not Compute)</td>\n",
       "      <td>0.725</td>\n",
       "      <td>91</td>\n",
       "    </tr>\n",
       "    <tr>\n",
       "      <th>339</th>\n",
       "      <td>0.096400</td>\n",
       "      <td>Parade - Music From The Motion Picture Under T...</td>\n",
       "      <td>54DjkEN3wdCQgfCTZ9WjdB</td>\n",
       "      <td>1986-03-31</td>\n",
       "      <td>Prince</td>\n",
       "      <td>0.548</td>\n",
       "      <td>0.246</td>\n",
       "      <td>No Feature</td>\n",
       "      <td>4</td>\n",
       "      <td>-13.364</td>\n",
       "      <td>176.976</td>\n",
       "      <td>4lsHSebqNhVMIUSD31Zr6W</td>\n",
       "      <td>Under The Cherry Moon</td>\n",
       "      <td>0.413</td>\n",
       "      <td>94</td>\n",
       "    </tr>\n",
       "    <tr>\n",
       "      <th>340</th>\n",
       "      <td>0.029100</td>\n",
       "      <td>Diamonds And Pearls</td>\n",
       "      <td>0qcgEPOg67XnxGizdAAcGa</td>\n",
       "      <td>1991-10-01</td>\n",
       "      <td>Prince</td>\n",
       "      <td>0.824</td>\n",
       "      <td>0.569</td>\n",
       "      <td>No Feature</td>\n",
       "      <td>1</td>\n",
       "      <td>-10.386</td>\n",
       "      <td>110.129</td>\n",
       "      <td>4TD2ZZETSh7OFOw1RTNPGb</td>\n",
       "      <td>Money Don't Matter 2 Night</td>\n",
       "      <td>0.703</td>\n",
       "      <td>95</td>\n",
       "    </tr>\n",
       "    <tr>\n",
       "      <th>418</th>\n",
       "      <td>0.007130</td>\n",
       "      <td>Dirty Mind</td>\n",
       "      <td>3Cijd5OjHeWBm97DsPHpgs</td>\n",
       "      <td>1980-10-08</td>\n",
       "      <td>Prince</td>\n",
       "      <td>0.845</td>\n",
       "      <td>0.486</td>\n",
       "      <td>No Feature</td>\n",
       "      <td>11</td>\n",
       "      <td>-12.778</td>\n",
       "      <td>118.458</td>\n",
       "      <td>4ylO0IAVZviyGLRsFgj6Nb</td>\n",
       "      <td>Head</td>\n",
       "      <td>0.692</td>\n",
       "      <td>109</td>\n",
       "    </tr>\n",
       "  </tbody>\n",
       "</table>\n",
       "</div>"
      ],
      "text/plain": [
       "     acousticness                                              album  \\\n",
       "7        0.035300                                        Purple Rain   \n",
       "31       0.086200                                        Purple Rain   \n",
       "34       0.235000                                              4Ever   \n",
       "66       0.409000                                             Prince   \n",
       "95       0.053200                                Diamonds And Pearls   \n",
       "123      0.293000                                             Batman   \n",
       "162      0.228000                                            For You   \n",
       "178      0.000406                                         Dirty Mind   \n",
       "258      0.017800                            The Very Best Of Prince   \n",
       "325      0.169000                               The Hits/The B-Sides   \n",
       "333      0.095000                                               1999   \n",
       "339      0.096400  Parade - Music From The Motion Picture Under T...   \n",
       "340      0.029100                                Diamonds And Pearls   \n",
       "418      0.007130                                         Dirty Mind   \n",
       "\n",
       "                   album_id album_release  artist  danceability  energy  \\\n",
       "7    7nXJ5k4XgRj5OLg9m8V3zc    1984-06-25  Prince         0.367   0.452   \n",
       "31   7nXJ5k4XgRj5OLg9m8V3zc    1984-06-25  Prince         0.731   0.750   \n",
       "34   7mhrGQKxLFJPY2J4TXtA0A    2016-11-22  Prince         0.777   0.700   \n",
       "66   6k7RVZ7bSL9ryReb8RLYRI    1979-10-19  Prince         0.705   0.342   \n",
       "95   0qcgEPOg67XnxGizdAAcGa    1991-10-01  Prince         0.549   0.547   \n",
       "123  2FwzHgJ4XaPhC19Y0uL6SK    1989-06-20  Prince         0.761   0.404   \n",
       "162  5kbRcoeBHpJHe37a9agmfv    1978-04-07  Prince         0.904   0.463   \n",
       "178  3Cijd5OjHeWBm97DsPHpgs    1980-10-08  Prince         0.849   0.385   \n",
       "258  5oQClEU6YXiVoaz4ZTmOOO    2001-07-30  Prince         0.875   0.882   \n",
       "325  3o0o5WPnqfGOeyx3UMJgvO    1993-09-13  Prince         0.770   0.744   \n",
       "333  3U1ht9EdWEI9nMvaqdQI67    1982-10-27  Prince         0.614   0.415   \n",
       "339  54DjkEN3wdCQgfCTZ9WjdB    1986-03-31  Prince         0.548   0.246   \n",
       "340  0qcgEPOg67XnxGizdAAcGa    1991-10-01  Prince         0.824   0.569   \n",
       "418  3Cijd5OjHeWBm97DsPHpgs    1980-10-08  Prince         0.845   0.486   \n",
       "\n",
       "        feature  key  loudness    tempo                track_id  \\\n",
       "7    No Feature   10   -10.422  113.066  54X78diSLoUDI3joC2bjMz   \n",
       "31   No Feature    2   -10.457  135.406  6fBwVe6udYdnRqwqo06if8   \n",
       "34   No Feature    1   -11.045  122.940  6X4JeTWCuKEzKOEHXDtyBo   \n",
       "66   No Feature   11   -13.209   79.904  3QwN6nANXiVnexlOMXQNp7   \n",
       "95   No Feature    7   -10.119   81.050  7IoLw1bECmOSWcm2u9SmRH   \n",
       "123  No Feature    1   -11.977  124.524  2dnPoLlcwJFtFm1pps3Bm0   \n",
       "162  No Feature    6   -11.552  115.362  6Q8s3YuAWkx0Qui0Jgkr5m   \n",
       "178  No Feature    0   -14.398  125.408  3IiS3fVdtsMPSHsWBgDcFn   \n",
       "258  No Feature    9   -11.219  126.574  7ffE3UYWppPyCRTfIrA3nf   \n",
       "325  No Feature    2    -8.133  106.150  4Syn1a4Irz0UbbR44s7CqB   \n",
       "333  No Feature    3   -18.296  169.002  2hABMU63xtaIYChN6eYlEb   \n",
       "339  No Feature    4   -13.364  176.976  4lsHSebqNhVMIUSD31Zr6W   \n",
       "340  No Feature    1   -10.386  110.129  4TD2ZZETSh7OFOw1RTNPGb   \n",
       "418  No Feature   11   -12.778  118.458  4ylO0IAVZviyGLRsFgj6Nb   \n",
       "\n",
       "                                    track_name  valence  match  \n",
       "7                                  Purple Rain    0.189      2  \n",
       "31                             I Would Die 4 U    0.639      8  \n",
       "34                         Little Red Corvette    0.802      9  \n",
       "66                        It's Gonna Be Lonely    0.274     14  \n",
       "95                         Diamonds And Pearls    0.288     23  \n",
       "123                                 Scandalous    0.509     31  \n",
       "162                               Soft and Wet    0.926     46  \n",
       "178                                     Uptown    0.886     50  \n",
       "258                             When Doves Cry    0.874     72  \n",
       "325                                  Sexy M.F.    0.548     88  \n",
       "333  Something In The Water (Does Not Compute)    0.725     91  \n",
       "339                      Under The Cherry Moon    0.413     94  \n",
       "340                 Money Don't Matter 2 Night    0.703     95  \n",
       "418                                       Head    0.692    109  "
      ]
     },
     "execution_count": 580,
     "metadata": {},
     "output_type": "execute_result"
    }
   ],
   "source": [
    "rec_df"
   ]
  },
  {
   "cell_type": "code",
   "execution_count": 581,
   "metadata": {},
   "outputs": [
    {
     "data": {
      "text/plain": [
       "array([[<matplotlib.axes._subplots.AxesSubplot object at 0x124949eb8>,\n",
       "        <matplotlib.axes._subplots.AxesSubplot object at 0x1249906d8>,\n",
       "        <matplotlib.axes._subplots.AxesSubplot object at 0x1247ceda0>],\n",
       "       [<matplotlib.axes._subplots.AxesSubplot object at 0x1247dc8d0>,\n",
       "        <matplotlib.axes._subplots.AxesSubplot object at 0x12484d0b8>,\n",
       "        <matplotlib.axes._subplots.AxesSubplot object at 0x12484d0f0>],\n",
       "       [<matplotlib.axes._subplots.AxesSubplot object at 0x124884908>,\n",
       "        <matplotlib.axes._subplots.AxesSubplot object at 0x1248a06d8>,\n",
       "        <matplotlib.axes._subplots.AxesSubplot object at 0x124157f60>]],\n",
       "      dtype=object)"
      ]
     },
     "execution_count": 581,
     "metadata": {},
     "output_type": "execute_result"
    },
    {
     "data": {
      "image/png": "[encoded data removed]",
      "text/plain": [
       "<Figure size 432x288 with 9 Axes>"
      ]
     },
     "metadata": {},
     "output_type": "display_data"
    }
   ],
   "source": [
    "rec_df.hist()"
   ]
  },
  {
   "cell_type": "code",
   "execution_count": 508,
   "metadata": {},
   "outputs": [
    {
     "data": {
      "text/plain": [
       "array([[<matplotlib.axes._subplots.AxesSubplot object at 0x115b7d048>,\n",
       "        <matplotlib.axes._subplots.AxesSubplot object at 0x1168f7240>,\n",
       "        <matplotlib.axes._subplots.AxesSubplot object at 0x115b3de10>],\n",
       "       [<matplotlib.axes._subplots.AxesSubplot object at 0x1163bd4a8>,\n",
       "        <matplotlib.axes._subplots.AxesSubplot object at 0x1183b2be0>,\n",
       "        <matplotlib.axes._subplots.AxesSubplot object at 0x1183b29b0>],\n",
       "       [<matplotlib.axes._subplots.AxesSubplot object at 0x123e31630>,\n",
       "        <matplotlib.axes._subplots.AxesSubplot object at 0x123e5bcc0>,\n",
       "        <matplotlib.axes._subplots.AxesSubplot object at 0x123e8e390>]],\n",
       "      dtype=object)"
      ]
     },
     "execution_count": 508,
     "metadata": {},
     "output_type": "execute_result"
    },
    {
     "data": {
      "image/png": "[encoded data removed]",
      "text/plain": [
       "<Figure size 432x288 with 9 Axes>"
      ]
     },
     "metadata": {},
     "output_type": "display_data"
    }
   ],
   "source": [
    "lt_df.hist()"
   ]
  },
  {
   "cell_type": "code",
   "execution_count": null,
   "metadata": {},
   "outputs": [],
   "source": [
    "user_playlist_create"
   ]
  },
  {
   "cell_type": "code",
   "execution_count": null,
   "metadata": {},
   "outputs": [],
   "source": [
    "user_playlist_add_tracks(self, user, playlist_id, tracks,\n",
    "                                 position=None)"
   ]
  },
  {
   "cell_type": "code",
   "execution_count": 582,
   "metadata": {},
   "outputs": [
    {
     "data": {
      "text/html": [
       "<div>\n",
       "<style scoped>\n",
       "    .dataframe tbody tr th:only-of-type {\n",
       "        vertical-align: middle;\n",
       "    }\n",
       "\n",
       "    .dataframe tbody tr th {\n",
       "        vertical-align: top;\n",
       "    }\n",
       "\n",
       "    .dataframe thead th {\n",
       "        text-align: right;\n",
       "    }\n",
       "</style>\n",
       "<table border=\"1\" class=\"dataframe\">\n",
       "  <thead>\n",
       "    <tr style=\"text-align: right;\">\n",
       "      <th></th>\n",
       "      <th>acousticness</th>\n",
       "      <th>album</th>\n",
       "      <th>album_id</th>\n",
       "      <th>album_release</th>\n",
       "      <th>artist</th>\n",
       "      <th>danceability</th>\n",
       "      <th>energy</th>\n",
       "      <th>feature</th>\n",
       "      <th>key</th>\n",
       "      <th>loudness</th>\n",
       "      <th>tempo</th>\n",
       "      <th>track_id</th>\n",
       "      <th>track_name</th>\n",
       "      <th>valence</th>\n",
       "      <th>match</th>\n",
       "    </tr>\n",
       "  </thead>\n",
       "  <tbody>\n",
       "    <tr>\n",
       "      <th>7</th>\n",
       "      <td>0.035300</td>\n",
       "      <td>Purple Rain</td>\n",
       "      <td>7nXJ5k4XgRj5OLg9m8V3zc</td>\n",
       "      <td>1984-06-25</td>\n",
       "      <td>Prince</td>\n",
       "      <td>0.367</td>\n",
       "      <td>0.452</td>\n",
       "      <td>No Feature</td>\n",
       "      <td>10</td>\n",
       "      <td>-10.422</td>\n",
       "      <td>113.066</td>\n",
       "      <td>54X78diSLoUDI3joC2bjMz</td>\n",
       "      <td>Purple Rain</td>\n",
       "      <td>0.189</td>\n",
       "      <td>2</td>\n",
       "    </tr>\n",
       "    <tr>\n",
       "      <th>31</th>\n",
       "      <td>0.086200</td>\n",
       "      <td>Purple Rain</td>\n",
       "      <td>7nXJ5k4XgRj5OLg9m8V3zc</td>\n",
       "      <td>1984-06-25</td>\n",
       "      <td>Prince</td>\n",
       "      <td>0.731</td>\n",
       "      <td>0.750</td>\n",
       "      <td>No Feature</td>\n",
       "      <td>2</td>\n",
       "      <td>-10.457</td>\n",
       "      <td>135.406</td>\n",
       "      <td>6fBwVe6udYdnRqwqo06if8</td>\n",
       "      <td>I Would Die 4 U</td>\n",
       "      <td>0.639</td>\n",
       "      <td>8</td>\n",
       "    </tr>\n",
       "    <tr>\n",
       "      <th>34</th>\n",
       "      <td>0.235000</td>\n",
       "      <td>4Ever</td>\n",
       "      <td>7mhrGQKxLFJPY2J4TXtA0A</td>\n",
       "      <td>2016-11-22</td>\n",
       "      <td>Prince</td>\n",
       "      <td>0.777</td>\n",
       "      <td>0.700</td>\n",
       "      <td>No Feature</td>\n",
       "      <td>1</td>\n",
       "      <td>-11.045</td>\n",
       "      <td>122.940</td>\n",
       "      <td>6X4JeTWCuKEzKOEHXDtyBo</td>\n",
       "      <td>Little Red Corvette</td>\n",
       "      <td>0.802</td>\n",
       "      <td>9</td>\n",
       "    </tr>\n",
       "    <tr>\n",
       "      <th>66</th>\n",
       "      <td>0.409000</td>\n",
       "      <td>Prince</td>\n",
       "      <td>6k7RVZ7bSL9ryReb8RLYRI</td>\n",
       "      <td>1979-10-19</td>\n",
       "      <td>Prince</td>\n",
       "      <td>0.705</td>\n",
       "      <td>0.342</td>\n",
       "      <td>No Feature</td>\n",
       "      <td>11</td>\n",
       "      <td>-13.209</td>\n",
       "      <td>79.904</td>\n",
       "      <td>3QwN6nANXiVnexlOMXQNp7</td>\n",
       "      <td>It's Gonna Be Lonely</td>\n",
       "      <td>0.274</td>\n",
       "      <td>14</td>\n",
       "    </tr>\n",
       "    <tr>\n",
       "      <th>95</th>\n",
       "      <td>0.053200</td>\n",
       "      <td>Diamonds And Pearls</td>\n",
       "      <td>0qcgEPOg67XnxGizdAAcGa</td>\n",
       "      <td>1991-10-01</td>\n",
       "      <td>Prince</td>\n",
       "      <td>0.549</td>\n",
       "      <td>0.547</td>\n",
       "      <td>No Feature</td>\n",
       "      <td>7</td>\n",
       "      <td>-10.119</td>\n",
       "      <td>81.050</td>\n",
       "      <td>7IoLw1bECmOSWcm2u9SmRH</td>\n",
       "      <td>Diamonds And Pearls</td>\n",
       "      <td>0.288</td>\n",
       "      <td>23</td>\n",
       "    </tr>\n",
       "    <tr>\n",
       "      <th>123</th>\n",
       "      <td>0.293000</td>\n",
       "      <td>Batman</td>\n",
       "      <td>2FwzHgJ4XaPhC19Y0uL6SK</td>\n",
       "      <td>1989-06-20</td>\n",
       "      <td>Prince</td>\n",
       "      <td>0.761</td>\n",
       "      <td>0.404</td>\n",
       "      <td>No Feature</td>\n",
       "      <td>1</td>\n",
       "      <td>-11.977</td>\n",
       "      <td>124.524</td>\n",
       "      <td>2dnPoLlcwJFtFm1pps3Bm0</td>\n",
       "      <td>Scandalous</td>\n",
       "      <td>0.509</td>\n",
       "      <td>31</td>\n",
       "    </tr>\n",
       "    <tr>\n",
       "      <th>162</th>\n",
       "      <td>0.228000</td>\n",
       "      <td>For You</td>\n",
       "      <td>5kbRcoeBHpJHe37a9agmfv</td>\n",
       "      <td>1978-04-07</td>\n",
       "      <td>Prince</td>\n",
       "      <td>0.904</td>\n",
       "      <td>0.463</td>\n",
       "      <td>No Feature</td>\n",
       "      <td>6</td>\n",
       "      <td>-11.552</td>\n",
       "      <td>115.362</td>\n",
       "      <td>6Q8s3YuAWkx0Qui0Jgkr5m</td>\n",
       "      <td>Soft and Wet</td>\n",
       "      <td>0.926</td>\n",
       "      <td>46</td>\n",
       "    </tr>\n",
       "    <tr>\n",
       "      <th>178</th>\n",
       "      <td>0.000406</td>\n",
       "      <td>Dirty Mind</td>\n",
       "      <td>3Cijd5OjHeWBm97DsPHpgs</td>\n",
       "      <td>1980-10-08</td>\n",
       "      <td>Prince</td>\n",
       "      <td>0.849</td>\n",
       "      <td>0.385</td>\n",
       "      <td>No Feature</td>\n",
       "      <td>0</td>\n",
       "      <td>-14.398</td>\n",
       "      <td>125.408</td>\n",
       "      <td>3IiS3fVdtsMPSHsWBgDcFn</td>\n",
       "      <td>Uptown</td>\n",
       "      <td>0.886</td>\n",
       "      <td>50</td>\n",
       "    </tr>\n",
       "    <tr>\n",
       "      <th>258</th>\n",
       "      <td>0.017800</td>\n",
       "      <td>The Very Best Of Prince</td>\n",
       "      <td>5oQClEU6YXiVoaz4ZTmOOO</td>\n",
       "      <td>2001-07-30</td>\n",
       "      <td>Prince</td>\n",
       "      <td>0.875</td>\n",
       "      <td>0.882</td>\n",
       "      <td>No Feature</td>\n",
       "      <td>9</td>\n",
       "      <td>-11.219</td>\n",
       "      <td>126.574</td>\n",
       "      <td>7ffE3UYWppPyCRTfIrA3nf</td>\n",
       "      <td>When Doves Cry</td>\n",
       "      <td>0.874</td>\n",
       "      <td>72</td>\n",
       "    </tr>\n",
       "    <tr>\n",
       "      <th>325</th>\n",
       "      <td>0.169000</td>\n",
       "      <td>The Hits/The B-Sides</td>\n",
       "      <td>3o0o5WPnqfGOeyx3UMJgvO</td>\n",
       "      <td>1993-09-13</td>\n",
       "      <td>Prince</td>\n",
       "      <td>0.770</td>\n",
       "      <td>0.744</td>\n",
       "      <td>No Feature</td>\n",
       "      <td>2</td>\n",
       "      <td>-8.133</td>\n",
       "      <td>106.150</td>\n",
       "      <td>4Syn1a4Irz0UbbR44s7CqB</td>\n",
       "      <td>Sexy M.F.</td>\n",
       "      <td>0.548</td>\n",
       "      <td>88</td>\n",
       "    </tr>\n",
       "    <tr>\n",
       "      <th>333</th>\n",
       "      <td>0.095000</td>\n",
       "      <td>1999</td>\n",
       "      <td>3U1ht9EdWEI9nMvaqdQI67</td>\n",
       "      <td>1982-10-27</td>\n",
       "      <td>Prince</td>\n",
       "      <td>0.614</td>\n",
       "      <td>0.415</td>\n",
       "      <td>No Feature</td>\n",
       "      <td>3</td>\n",
       "      <td>-18.296</td>\n",
       "      <td>169.002</td>\n",
       "      <td>2hABMU63xtaIYChN6eYlEb</td>\n",
       "      <td>Something In The Water (Does Not Compute)</td>\n",
       "      <td>0.725</td>\n",
       "      <td>91</td>\n",
       "    </tr>\n",
       "    <tr>\n",
       "      <th>339</th>\n",
       "      <td>0.096400</td>\n",
       "      <td>Parade - Music From The Motion Picture Under T...</td>\n",
       "      <td>54DjkEN3wdCQgfCTZ9WjdB</td>\n",
       "      <td>1986-03-31</td>\n",
       "      <td>Prince</td>\n",
       "      <td>0.548</td>\n",
       "      <td>0.246</td>\n",
       "      <td>No Feature</td>\n",
       "      <td>4</td>\n",
       "      <td>-13.364</td>\n",
       "      <td>176.976</td>\n",
       "      <td>4lsHSebqNhVMIUSD31Zr6W</td>\n",
       "      <td>Under The Cherry Moon</td>\n",
       "      <td>0.413</td>\n",
       "      <td>94</td>\n",
       "    </tr>\n",
       "    <tr>\n",
       "      <th>340</th>\n",
       "      <td>0.029100</td>\n",
       "      <td>Diamonds And Pearls</td>\n",
       "      <td>0qcgEPOg67XnxGizdAAcGa</td>\n",
       "      <td>1991-10-01</td>\n",
       "      <td>Prince</td>\n",
       "      <td>0.824</td>\n",
       "      <td>0.569</td>\n",
       "      <td>No Feature</td>\n",
       "      <td>1</td>\n",
       "      <td>-10.386</td>\n",
       "      <td>110.129</td>\n",
       "      <td>4TD2ZZETSh7OFOw1RTNPGb</td>\n",
       "      <td>Money Don't Matter 2 Night</td>\n",
       "      <td>0.703</td>\n",
       "      <td>95</td>\n",
       "    </tr>\n",
       "    <tr>\n",
       "      <th>418</th>\n",
       "      <td>0.007130</td>\n",
       "      <td>Dirty Mind</td>\n",
       "      <td>3Cijd5OjHeWBm97DsPHpgs</td>\n",
       "      <td>1980-10-08</td>\n",
       "      <td>Prince</td>\n",
       "      <td>0.845</td>\n",
       "      <td>0.486</td>\n",
       "      <td>No Feature</td>\n",
       "      <td>11</td>\n",
       "      <td>-12.778</td>\n",
       "      <td>118.458</td>\n",
       "      <td>4ylO0IAVZviyGLRsFgj6Nb</td>\n",
       "      <td>Head</td>\n",
       "      <td>0.692</td>\n",
       "      <td>109</td>\n",
       "    </tr>\n",
       "  </tbody>\n",
       "</table>\n",
       "</div>"
      ],
      "text/plain": [
       "     acousticness                                              album  \\\n",
       "7        0.035300                                        Purple Rain   \n",
       "31       0.086200                                        Purple Rain   \n",
       "34       0.235000                                              4Ever   \n",
       "66       0.409000                                             Prince   \n",
       "95       0.053200                                Diamonds And Pearls   \n",
       "123      0.293000                                             Batman   \n",
       "162      0.228000                                            For You   \n",
       "178      0.000406                                         Dirty Mind   \n",
       "258      0.017800                            The Very Best Of Prince   \n",
       "325      0.169000                               The Hits/The B-Sides   \n",
       "333      0.095000                                               1999   \n",
       "339      0.096400  Parade - Music From The Motion Picture Under T...   \n",
       "340      0.029100                                Diamonds And Pearls   \n",
       "418      0.007130                                         Dirty Mind   \n",
       "\n",
       "                   album_id album_release  artist  danceability  energy  \\\n",
       "7    7nXJ5k4XgRj5OLg9m8V3zc    1984-06-25  Prince         0.367   0.452   \n",
       "31   7nXJ5k4XgRj5OLg9m8V3zc    1984-06-25  Prince         0.731   0.750   \n",
       "34   7mhrGQKxLFJPY2J4TXtA0A    2016-11-22  Prince         0.777   0.700   \n",
       "66   6k7RVZ7bSL9ryReb8RLYRI    1979-10-19  Prince         0.705   0.342   \n",
       "95   0qcgEPOg67XnxGizdAAcGa    1991-10-01  Prince         0.549   0.547   \n",
       "123  2FwzHgJ4XaPhC19Y0uL6SK    1989-06-20  Prince         0.761   0.404   \n",
       "162  5kbRcoeBHpJHe37a9agmfv    1978-04-07  Prince         0.904   0.463   \n",
       "178  3Cijd5OjHeWBm97DsPHpgs    1980-10-08  Prince         0.849   0.385   \n",
       "258  5oQClEU6YXiVoaz4ZTmOOO    2001-07-30  Prince         0.875   0.882   \n",
       "325  3o0o5WPnqfGOeyx3UMJgvO    1993-09-13  Prince         0.770   0.744   \n",
       "333  3U1ht9EdWEI9nMvaqdQI67    1982-10-27  Prince         0.614   0.415   \n",
       "339  54DjkEN3wdCQgfCTZ9WjdB    1986-03-31  Prince         0.548   0.246   \n",
       "340  0qcgEPOg67XnxGizdAAcGa    1991-10-01  Prince         0.824   0.569   \n",
       "418  3Cijd5OjHeWBm97DsPHpgs    1980-10-08  Prince         0.845   0.486   \n",
       "\n",
       "        feature  key  loudness    tempo                track_id  \\\n",
       "7    No Feature   10   -10.422  113.066  54X78diSLoUDI3joC2bjMz   \n",
       "31   No Feature    2   -10.457  135.406  6fBwVe6udYdnRqwqo06if8   \n",
       "34   No Feature    1   -11.045  122.940  6X4JeTWCuKEzKOEHXDtyBo   \n",
       "66   No Feature   11   -13.209   79.904  3QwN6nANXiVnexlOMXQNp7   \n",
       "95   No Feature    7   -10.119   81.050  7IoLw1bECmOSWcm2u9SmRH   \n",
       "123  No Feature    1   -11.977  124.524  2dnPoLlcwJFtFm1pps3Bm0   \n",
       "162  No Feature    6   -11.552  115.362  6Q8s3YuAWkx0Qui0Jgkr5m   \n",
       "178  No Feature    0   -14.398  125.408  3IiS3fVdtsMPSHsWBgDcFn   \n",
       "258  No Feature    9   -11.219  126.574  7ffE3UYWppPyCRTfIrA3nf   \n",
       "325  No Feature    2    -8.133  106.150  4Syn1a4Irz0UbbR44s7CqB   \n",
       "333  No Feature    3   -18.296  169.002  2hABMU63xtaIYChN6eYlEb   \n",
       "339  No Feature    4   -13.364  176.976  4lsHSebqNhVMIUSD31Zr6W   \n",
       "340  No Feature    1   -10.386  110.129  4TD2ZZETSh7OFOw1RTNPGb   \n",
       "418  No Feature   11   -12.778  118.458  4ylO0IAVZviyGLRsFgj6Nb   \n",
       "\n",
       "                                    track_name  valence  match  \n",
       "7                                  Purple Rain    0.189      2  \n",
       "31                             I Would Die 4 U    0.639      8  \n",
       "34                         Little Red Corvette    0.802      9  \n",
       "66                        It's Gonna Be Lonely    0.274     14  \n",
       "95                         Diamonds And Pearls    0.288     23  \n",
       "123                                 Scandalous    0.509     31  \n",
       "162                               Soft and Wet    0.926     46  \n",
       "178                                     Uptown    0.886     50  \n",
       "258                             When Doves Cry    0.874     72  \n",
       "325                                  Sexy M.F.    0.548     88  \n",
       "333  Something In The Water (Does Not Compute)    0.725     91  \n",
       "339                      Under The Cherry Moon    0.413     94  \n",
       "340                 Money Don't Matter 2 Night    0.703     95  \n",
       "418                                       Head    0.692    109  "
      ]
     },
     "execution_count": 582,
     "metadata": {},
     "output_type": "execute_result"
    }
   ],
   "source": [
    "rec_df"
   ]
  },
  {
   "cell_type": "code",
   "execution_count": 583,
   "metadata": {},
   "outputs": [
    {
     "data": {
      "text/plain": [
       "'Prince'"
      ]
     },
     "execution_count": 583,
     "metadata": {},
     "output_type": "execute_result"
    }
   ],
   "source": [
    "return_to_dict = rec_df['artist'].to_dict()\n",
    "artist_name = list(return_to_dict.values())[0]\n",
    "artist_name"
   ]
  },
  {
   "cell_type": "code",
   "execution_count": 584,
   "metadata": {},
   "outputs": [],
   "source": [
    "id_add = list(rec_df['track_id'].to_dict().values())"
   ]
  },
  {
   "cell_type": "code",
   "execution_count": 557,
   "metadata": {},
   "outputs": [
    {
     "data": {
      "text/plain": [
       "'0W8XF2llnx3Hx35dbwVgDj'"
      ]
     },
     "execution_count": 557,
     "metadata": {},
     "output_type": "execute_result"
    }
   ],
   "source": [
    "# sp2.user_playlists('mrethana')['items'][0]['id']"
   ]
  },
  {
   "cell_type": "code",
   "execution_count": null,
   "metadata": {},
   "outputs": [],
   "source": []
  },
  {
   "cell_type": "code",
   "execution_count": 585,
   "metadata": {},
   "outputs": [
    {
     "name": "stdout",
     "output_type": "stream",
     "text": [
      "\n",
      "\n",
      "            User authentication requires interaction with your\n",
      "            web browser. Once you enter your credentials and\n",
      "            give authorization, you will be redirected to\n",
      "            a url.  Paste that url you were directed to to\n",
      "            complete the authorization.\n",
      "\n",
      "        \n",
      "Opened https://accounts.spotify.com/authorize?client_id=4849430a2b114eae9d8eaf2c1f14f612&response_type=code&redirect_uri=http%3A%2F%2F127.0.0.1%3A8050%2Fdashboard&scope=playlist-modify-public in your browser\n",
      "\n",
      "\n",
      "Enter the URL you were redirected to: http://127.0.0.1:8050/dashboard?code=AQAYWk2-6AcIGQm1clnXrsswXCa0QqbypHBA7_TNN1htdAA71xcia94VRp_-uHRo2J2j0a_mjs-B8xqm7ar4P-j6ycO9Pz0qmTpRzbvOhlLGuvy-G17Ul5z5PC6H74HFurSHtdmrJ5DwbbbMPppsRfRTuzqHeQj_eZHJezJFvVxinir0FV2tdbeBFaG6v7V9CyCkfx6bSYr7YPavTbhpFJ84FDMlKZj5hrEmhPM\n",
      "\n",
      "\n"
     ]
    }
   ],
   "source": [
    "token2 = call_api('mrethana', 'playlist-modify-public')\n",
    "sp2 = spotipy.Spotify(auth=token2)"
   ]
  },
  {
   "cell_type": "code",
   "execution_count": 586,
   "metadata": {},
   "outputs": [
    {
     "data": {
      "text/plain": [
       "{'collaborative': False,\n",
       " 'description': None,\n",
       " 'external_urls': {'spotify': 'https://open.spotify.com/user/mrethana/playlist/2458TWO4rrDwD2BquzCExd'},\n",
       " 'followers': {'href': None, 'total': 0},\n",
       " 'href': 'https://api.spotify.com/v1/users/mrethana/playlists/2458TWO4rrDwD2BquzCExd',\n",
       " 'id': '2458TWO4rrDwD2BquzCExd',\n",
       " 'images': [],\n",
       " 'name': 'Prince',\n",
       " 'owner': {'display_name': None,\n",
       "  'external_urls': {'spotify': 'https://open.spotify.com/user/mrethana'},\n",
       "  'href': 'https://api.spotify.com/v1/users/mrethana',\n",
       "  'id': 'mrethana',\n",
       "  'type': 'user',\n",
       "  'uri': 'spotify:user:mrethana'},\n",
       " 'primary_color': None,\n",
       " 'public': True,\n",
       " 'snapshot_id': 'MSxjNjVmYzExYWQ4NTZiMWRjMmI5MGRjNmMwNmMwYzM4OWU3NjE4YzZk',\n",
       " 'tracks': {'href': 'https://api.spotify.com/v1/users/mrethana/playlists/2458TWO4rrDwD2BquzCExd/tracks',\n",
       "  'items': [],\n",
       "  'limit': 100,\n",
       "  'next': None,\n",
       "  'offset': 0,\n",
       "  'previous': None,\n",
       "  'total': 0},\n",
       " 'type': 'playlist',\n",
       " 'uri': 'spotify:user:mrethana:playlist:2458TWO4rrDwD2BquzCExd'}"
      ]
     },
     "execution_count": 586,
     "metadata": {},
     "output_type": "execute_result"
    }
   ],
   "source": [
    "sp2.user_playlist_create('mrethana',artist_name, True)"
   ]
  },
  {
   "cell_type": "code",
   "execution_count": 587,
   "metadata": {},
   "outputs": [],
   "source": [
    "newest_id = sp2.user_playlists('mrethana')['items'][0]['id']"
   ]
  },
  {
   "cell_type": "code",
   "execution_count": 588,
   "metadata": {},
   "outputs": [
    {
     "data": {
      "text/plain": [
       "{'snapshot_id': 'Miw3ODZjYTJmNDIwYjg1YTRjYzBhMzI3ZDM0Zjk0YzMwYmFhOTYyMDEz'}"
      ]
     },
     "execution_count": 588,
     "metadata": {},
     "output_type": "execute_result"
    }
   ],
   "source": [
    "sp2.user_playlist_add_tracks('mrethana', newest_id, id_add, None)"
   ]
  },
  {
   "cell_type": "code",
   "execution_count": null,
   "metadata": {},
   "outputs": [],
   "source": []
  },
  {
   "cell_type": "code",
   "execution_count": null,
   "metadata": {},
   "outputs": [],
   "source": []
  },
  {
   "cell_type": "code",
   "execution_count": null,
   "metadata": {},
   "outputs": [],
   "source": []
  },
  {
   "cell_type": "code",
   "execution_count": null,
   "metadata": {},
   "outputs": [],
   "source": []
  },
  {
   "cell_type": "code",
   "execution_count": null,
   "metadata": {},
   "outputs": [],
   "source": []
  },
  {
   "cell_type": "code",
   "execution_count": null,
   "metadata": {},
   "outputs": [],
   "source": []
  },
  {
   "cell_type": "code",
   "execution_count": null,
   "metadata": {},
   "outputs": [],
   "source": []
  },
  {
   "cell_type": "code",
   "execution_count": null,
   "metadata": {},
   "outputs": [],
   "source": []
  },
  {
   "cell_type": "code",
   "execution_count": null,
   "metadata": {},
   "outputs": [],
   "source": []
  },
  {
   "cell_type": "code",
   "execution_count": null,
   "metadata": {},
   "outputs": [],
   "source": []
  },
  {
   "cell_type": "code",
   "execution_count": null,
   "metadata": {},
   "outputs": [],
   "source": []
  },
  {
   "cell_type": "code",
   "execution_count": null,
   "metadata": {},
   "outputs": [],
   "source": []
  },
  {
   "cell_type": "code",
   "execution_count": 9,
   "metadata": {},
   "outputs": [],
   "source": [
    "saved_tracks = sp2.current_user_saved_tracks(50,5)\n",
    "# saved_tracks = [track['track'] for track in saved_tracks['items']]\n",
    "# artist_lists = []\n",
    "# for artist_list in saved_tracks:\n",
    "#     artist_lists.extend(artist_list['artists'])"
   ]
  },
  {
   "cell_type": "code",
   "execution_count": 419,
   "metadata": {},
   "outputs": [],
   "source": [
    "# x = set([artist['id'] for artist in artist_lists])\n"
   ]
  },
  {
   "cell_type": "code",
   "execution_count": 420,
   "metadata": {},
   "outputs": [
    {
     "data": {
      "text/plain": [
       "'The Way You Make Me Feel - 2012 Remaster'"
      ]
     },
     "execution_count": 420,
     "metadata": {},
     "output_type": "execute_result"
    }
   ],
   "source": [
    "# all_artists = [person['name'] for person in sp.artists(x)['artists']]\n",
    "list_name[-6]"
   ]
  },
  {
   "cell_type": "code",
   "execution_count": 421,
   "metadata": {},
   "outputs": [
    {
     "data": {
      "text/plain": [
       "'Honesty'"
      ]
     },
     "execution_count": 421,
     "metadata": {},
     "output_type": "execute_result"
    }
   ],
   "source": [
    "list_tracks[0]\n",
    "list_tracks[1]\n",
    "sp.artist_top_tracks('1W7FNibLa0O0b572tB2w7t')['tracks'][0]['name']\n"
   ]
  },
  {
   "cell_type": "code",
   "execution_count": 399,
   "metadata": {},
   "outputs": [
    {
     "data": {
      "text/plain": [
       "744     6.283750\n",
       "745    11.938333\n",
       "746     0.095667\n",
       "747    -0.962500\n",
       "748     6.358417\n",
       "Name: timbre, dtype: float64"
      ]
     },
     "execution_count": 399,
     "metadata": {},
     "output_type": "execute_result"
    }
   ],
   "source": [
    "pink = sp.audio_analysis('5dXI2NV7X2c4anyLFbQdEX')\n",
    "weekend = sp.audio_analysis(list_tracks[-6])\n",
    "dangerous = sp.audio_analysis(list_tracks[1])\n",
    "for pitch_list in dangerous['segments']:\n",
    "    pitch_list['pitches'] = sum(pitch_list['pitches'])/len(pitch_list['pitches'])\n",
    "    pitch_list['timbre'] = sum(pitch_list['timbre'])/len(pitch_list['timbre'])\n",
    "for pitch_list in weekend['segments']:\n",
    "    pitch_list['pitches'] = sum(pitch_list['pitches'])/len(pitch_list['pitches'])\n",
    "    pitch_list['timbre'] = sum(pitch_list['timbre'])/len(pitch_list['timbre'])\n",
    "    \n",
    "for pitch_list in pink['segments']:\n",
    "    pitch_list['pitches'] = sum(pitch_list['pitches'])/len(pitch_list['pitches'])\n",
    "    pitch_list['timbre'] = sum(pitch_list['timbre'])/len(pitch_list['timbre'])\n",
    "    \n",
    "dw = pd.DataFrame(dangerous['segments'])\n",
    "we = pd.DataFrame(weekend['segments'])\n",
    "ps = pd.DataFrame(pink['segments'])\n",
    "\n",
    "# pitches = pd.DataFrame(df['pitches'])\n",
    "# pitches\n",
    "dw['timbre'].tail()"
   ]
  },
  {
   "cell_type": "code",
   "execution_count": 400,
   "metadata": {},
   "outputs": [],
   "source": [
    "import numpy as np\n",
    "import pandas as pd\n",
    "import seaborn as sns\n",
    "import matplotlib.pyplot as plt\n",
    "from scipy import stats"
   ]
  },
  {
   "cell_type": "code",
   "execution_count": 401,
   "metadata": {
    "scrolled": true
   },
   "outputs": [
    {
     "name": "stderr",
     "output_type": "stream",
     "text": [
      "/anaconda3/lib/python3.6/site-packages/matplotlib/axes/_axes.py:6462: UserWarning:\n",
      "\n",
      "The 'normed' kwarg is deprecated, and has been replaced by the 'density' kwarg.\n",
      "\n",
      "/anaconda3/lib/python3.6/site-packages/matplotlib/axes/_axes.py:6462: UserWarning:\n",
      "\n",
      "The 'normed' kwarg is deprecated, and has been replaced by the 'density' kwarg.\n",
      "\n"
     ]
    },
    {
     "data": {
      "text/plain": [
       "<matplotlib.axes._subplots.AxesSubplot at 0x113ba7cc0>"
      ]
     },
     "execution_count": 401,
     "metadata": {},
     "output_type": "execute_result"
    },
    {
     "data": {
      "image/png": "[encoded data removed]",
      "text/plain": [
       "<Figure size 432x288 with 1 Axes>"
      ]
     },
     "metadata": {},
     "output_type": "display_data"
    }
   ],
   "source": [
    "sns.distplot(ps['pitches'],color = 'red')\n",
    "sns.distplot(we['pitches'], color = 'blue')\n"
   ]
  },
  {
   "cell_type": "code",
   "execution_count": 402,
   "metadata": {},
   "outputs": [
    {
     "name": "stderr",
     "output_type": "stream",
     "text": [
      "/anaconda3/lib/python3.6/site-packages/matplotlib/axes/_axes.py:6462: UserWarning:\n",
      "\n",
      "The 'normed' kwarg is deprecated, and has been replaced by the 'density' kwarg.\n",
      "\n",
      "/anaconda3/lib/python3.6/site-packages/matplotlib/axes/_axes.py:6462: UserWarning:\n",
      "\n",
      "The 'normed' kwarg is deprecated, and has been replaced by the 'density' kwarg.\n",
      "\n"
     ]
    },
    {
     "data": {
      "text/plain": [
       "<matplotlib.axes._subplots.AxesSubplot at 0x113ba78d0>"
      ]
     },
     "execution_count": 402,
     "metadata": {},
     "output_type": "execute_result"
    },
    {
     "data": {
      "image/png": "[encoded data removed]",
      "text/plain": [
       "<Figure size 432x288 with 1 Axes>"
      ]
     },
     "metadata": {},
     "output_type": "display_data"
    }
   ],
   "source": [
    "sns.distplot(ps['timbre'], color = 'red')\n",
    "sns.distplot(we['timbre'], color = 'blue')"
   ]
  },
  {
   "cell_type": "code",
   "execution_count": 403,
   "metadata": {},
   "outputs": [],
   "source": [
    "import pandas as pd\n",
    "wsections = pd.DataFrame(weekend['sections'])\n",
    "dsections = pd.DataFrame(dangerous['sections'])"
   ]
  },
  {
   "cell_type": "code",
   "execution_count": 404,
   "metadata": {},
   "outputs": [
    {
     "data": {
      "text/html": [
       "<div>\n",
       "<style scoped>\n",
       "    .dataframe tbody tr th:only-of-type {\n",
       "        vertical-align: middle;\n",
       "    }\n",
       "\n",
       "    .dataframe tbody tr th {\n",
       "        vertical-align: top;\n",
       "    }\n",
       "\n",
       "    .dataframe thead th {\n",
       "        text-align: right;\n",
       "    }\n",
       "</style>\n",
       "<table border=\"1\" class=\"dataframe\">\n",
       "  <thead>\n",
       "    <tr style=\"text-align: right;\">\n",
       "      <th></th>\n",
       "      <th>confidence</th>\n",
       "      <th>duration</th>\n",
       "      <th>key</th>\n",
       "      <th>key_confidence</th>\n",
       "      <th>loudness</th>\n",
       "      <th>mode</th>\n",
       "      <th>mode_confidence</th>\n",
       "      <th>start</th>\n",
       "      <th>tempo</th>\n",
       "      <th>tempo_confidence</th>\n",
       "      <th>time_signature</th>\n",
       "      <th>time_signature_confidence</th>\n",
       "    </tr>\n",
       "  </thead>\n",
       "  <tbody>\n",
       "    <tr>\n",
       "      <th>count</th>\n",
       "      <td>9.000000</td>\n",
       "      <td>9.000000</td>\n",
       "      <td>9.000000</td>\n",
       "      <td>9.000000</td>\n",
       "      <td>9.000000</td>\n",
       "      <td>9.000000</td>\n",
       "      <td>9.000000</td>\n",
       "      <td>9.000000</td>\n",
       "      <td>9.000000</td>\n",
       "      <td>9.000000</td>\n",
       "      <td>9.0</td>\n",
       "      <td>9.000000</td>\n",
       "    </tr>\n",
       "    <tr>\n",
       "      <th>mean</th>\n",
       "      <td>0.342000</td>\n",
       "      <td>21.222223</td>\n",
       "      <td>8.555556</td>\n",
       "      <td>0.223556</td>\n",
       "      <td>-14.114667</td>\n",
       "      <td>0.333333</td>\n",
       "      <td>0.380556</td>\n",
       "      <td>103.927190</td>\n",
       "      <td>80.049667</td>\n",
       "      <td>0.554667</td>\n",
       "      <td>4.0</td>\n",
       "      <td>0.977333</td>\n",
       "    </tr>\n",
       "    <tr>\n",
       "      <th>std</th>\n",
       "      <td>0.302116</td>\n",
       "      <td>12.998185</td>\n",
       "      <td>2.505549</td>\n",
       "      <td>0.308065</td>\n",
       "      <td>7.558723</td>\n",
       "      <td>0.500000</td>\n",
       "      <td>0.312643</td>\n",
       "      <td>61.950544</td>\n",
       "      <td>0.612873</td>\n",
       "      <td>0.135907</td>\n",
       "      <td>0.0</td>\n",
       "      <td>0.045970</td>\n",
       "    </tr>\n",
       "    <tr>\n",
       "      <th>min</th>\n",
       "      <td>0.090000</td>\n",
       "      <td>9.368490</td>\n",
       "      <td>6.000000</td>\n",
       "      <td>0.000000</td>\n",
       "      <td>-30.585000</td>\n",
       "      <td>0.000000</td>\n",
       "      <td>0.000000</td>\n",
       "      <td>0.000000</td>\n",
       "      <td>79.445000</td>\n",
       "      <td>0.335000</td>\n",
       "      <td>4.0</td>\n",
       "      <td>0.879000</td>\n",
       "    </tr>\n",
       "    <tr>\n",
       "      <th>25%</th>\n",
       "      <td>0.143000</td>\n",
       "      <td>9.854780</td>\n",
       "      <td>6.000000</td>\n",
       "      <td>0.006000</td>\n",
       "      <td>-14.103000</td>\n",
       "      <td>0.000000</td>\n",
       "      <td>0.029000</td>\n",
       "      <td>53.889640</td>\n",
       "      <td>79.633000</td>\n",
       "      <td>0.500000</td>\n",
       "      <td>4.0</td>\n",
       "      <td>1.000000</td>\n",
       "    </tr>\n",
       "    <tr>\n",
       "      <th>50%</th>\n",
       "      <td>0.212000</td>\n",
       "      <td>15.015200</td>\n",
       "      <td>9.000000</td>\n",
       "      <td>0.048000</td>\n",
       "      <td>-10.880000</td>\n",
       "      <td>0.000000</td>\n",
       "      <td>0.560000</td>\n",
       "      <td>122.121140</td>\n",
       "      <td>79.937000</td>\n",
       "      <td>0.515000</td>\n",
       "      <td>4.0</td>\n",
       "      <td>1.000000</td>\n",
       "    </tr>\n",
       "    <tr>\n",
       "      <th>75%</th>\n",
       "      <td>0.374000</td>\n",
       "      <td>29.517760</td>\n",
       "      <td>11.000000</td>\n",
       "      <td>0.457000</td>\n",
       "      <td>-9.631000</td>\n",
       "      <td>1.000000</td>\n",
       "      <td>0.617000</td>\n",
       "      <td>141.595070</td>\n",
       "      <td>80.128000</td>\n",
       "      <td>0.643000</td>\n",
       "      <td>4.0</td>\n",
       "      <td>1.000000</td>\n",
       "    </tr>\n",
       "    <tr>\n",
       "      <th>max</th>\n",
       "      <td>1.000000</td>\n",
       "      <td>40.490150</td>\n",
       "      <td>11.000000</td>\n",
       "      <td>0.753000</td>\n",
       "      <td>-8.207000</td>\n",
       "      <td>1.000000</td>\n",
       "      <td>0.750000</td>\n",
       "      <td>181.631510</td>\n",
       "      <td>81.445000</td>\n",
       "      <td>0.764000</td>\n",
       "      <td>4.0</td>\n",
       "      <td>1.000000</td>\n",
       "    </tr>\n",
       "  </tbody>\n",
       "</table>\n",
       "</div>"
      ],
      "text/plain": [
       "       confidence   duration        key  key_confidence   loudness      mode  \\\n",
       "count    9.000000   9.000000   9.000000        9.000000   9.000000  9.000000   \n",
       "mean     0.342000  21.222223   8.555556        0.223556 -14.114667  0.333333   \n",
       "std      0.302116  12.998185   2.505549        0.308065   7.558723  0.500000   \n",
       "min      0.090000   9.368490   6.000000        0.000000 -30.585000  0.000000   \n",
       "25%      0.143000   9.854780   6.000000        0.006000 -14.103000  0.000000   \n",
       "50%      0.212000  15.015200   9.000000        0.048000 -10.880000  0.000000   \n",
       "75%      0.374000  29.517760  11.000000        0.457000  -9.631000  1.000000   \n",
       "max      1.000000  40.490150  11.000000        0.753000  -8.207000  1.000000   \n",
       "\n",
       "       mode_confidence       start      tempo  tempo_confidence  \\\n",
       "count         9.000000    9.000000   9.000000          9.000000   \n",
       "mean          0.380556  103.927190  80.049667          0.554667   \n",
       "std           0.312643   61.950544   0.612873          0.135907   \n",
       "min           0.000000    0.000000  79.445000          0.335000   \n",
       "25%           0.029000   53.889640  79.633000          0.500000   \n",
       "50%           0.560000  122.121140  79.937000          0.515000   \n",
       "75%           0.617000  141.595070  80.128000          0.643000   \n",
       "max           0.750000  181.631510  81.445000          0.764000   \n",
       "\n",
       "       time_signature  time_signature_confidence  \n",
       "count             9.0                   9.000000  \n",
       "mean              4.0                   0.977333  \n",
       "std               0.0                   0.045970  \n",
       "min               4.0                   0.879000  \n",
       "25%               4.0                   1.000000  \n",
       "50%               4.0                   1.000000  \n",
       "75%               4.0                   1.000000  \n",
       "max               4.0                   1.000000  "
      ]
     },
     "execution_count": 404,
     "metadata": {},
     "output_type": "execute_result"
    }
   ],
   "source": [
    "psdf = pd.DataFrame(pink['sections'])\n",
    "psdf.describe()"
   ]
  },
  {
   "cell_type": "code",
   "execution_count": 405,
   "metadata": {},
   "outputs": [
    {
     "data": {
      "text/html": [
       "<iframe id=\"igraph\" scrolling=\"no\" style=\"border:none;\" seamless=\"seamless\" src=\"https://plot.ly/~mrethana/26.embed\" height=\"525px\" width=\"100%\"></iframe>"
      ],
      "text/plain": [
       "<plotly.tools.PlotlyDisplay object>"
      ]
     },
     "execution_count": 405,
     "metadata": {},
     "output_type": "execute_result"
    }
   ],
   "source": [
    "import plotly.plotly as py\n",
    "import plotly.graph_objs as go\n",
    "\n",
    "import pandas as pd\n",
    "\n",
    "data = [go.Scatter(\n",
    "          x=psdf.start,\n",
    "          y=psdf.tempo)]\n",
    "\n",
    "py.iplot(data)"
   ]
  },
  {
   "cell_type": "code",
   "execution_count": 406,
   "metadata": {},
   "outputs": [
    {
     "data": {
      "text/plain": [
       "[{'danceability': 0.616,\n",
       "  'energy': 0.204,\n",
       "  'key': 6,\n",
       "  'loudness': -11.421,\n",
       "  'mode': 0,\n",
       "  'speechiness': 0.0331,\n",
       "  'acousticness': 0.919,\n",
       "  'instrumentalness': 0,\n",
       "  'liveness': 0.106,\n",
       "  'valence': 0.419,\n",
       "  'tempo': 79.826,\n",
       "  'type': 'audio_features',\n",
       "  'id': '5dXI2NV7X2c4anyLFbQdEX',\n",
       "  'uri': 'spotify:track:5dXI2NV7X2c4anyLFbQdEX',\n",
       "  'track_href': 'https://api.spotify.com/v1/tracks/5dXI2NV7X2c4anyLFbQdEX',\n",
       "  'analysis_url': 'https://api.spotify.com/v1/audio-analysis/5dXI2NV7X2c4anyLFbQdEX',\n",
       "  'duration_ms': 191000,\n",
       "  'time_signature': 4}]"
      ]
     },
     "execution_count": 406,
     "metadata": {},
     "output_type": "execute_result"
    }
   ],
   "source": [
    "sp.audio_features('5dXI2NV7X2c4anyLFbQdEX')"
   ]
  },
  {
   "cell_type": "code",
   "execution_count": null,
   "metadata": {},
   "outputs": [],
   "source": []
  }
 ],
 "metadata": {
  "kernelspec": {
   "display_name": "Python 3",
   "language": "python",
   "name": "python3"
  },
  "language_info": {
   "codemirror_mode": {
    "name": "ipython",
    "version": 3
   },
   "file_extension": ".py",
   "mimetype": "text/x-python",
   "name": "python",
   "nbconvert_exporter": "python",
   "pygments_lexer": "ipython3",
   "version": "3.6.5"
  }
 },
 "nbformat": 4,
 "nbformat_minor": 2
}
